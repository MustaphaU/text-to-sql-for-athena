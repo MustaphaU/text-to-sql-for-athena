{
 "cells": [
  {
   "cell_type": "markdown",
   "id": "dbc4741b-a14c-40fd-9ac0-a3bd07633747",
   "metadata": {
    "pycharm": {
     "name": "#%% md\n"
    },
    "tags": []
   },
   "source": [
    "# Building  Text-to-SQL capability to Amazon Athena using Amazon Bedrock\n",
    "\n",
    "- **Use of amazon.titan-embed-text-v1 for creating embedding**\n",
    "- **Use of Amazon OpenSearch as a vector database**\n",
    "- **Use of anthropic.claude-v2:1 as base LLM Model**\n",
    "\n",
    "\n",
    "\n",
    "## Contents\n",
    "\n",
    "1. [Objective](#Objective)\n",
    "1. [Background](#Background-(Problem-Description-and-Approach))\n",
    "1. [Overall Workflow](#Overall-Workflow)\n",
    "1. [Conclusion](#Conclusion)"
   ]
  },
  {
   "cell_type": "markdown",
   "id": "f5453ed1-3da0-4c03-a376-e90e06c8a7eb",
   "metadata": {
    "pycharm": {
     "name": "#%% md\n"
    }
   },
   "source": [
    "\n",
    "## Objective\n",
    "\n",
    "This notebook shows is to provide the code snippets within an executable flow from [this AWS Blog post](https://aws.amazon.com/blogs/machine-learning/build-a-robust-text-to-sql-solution-generating-complex-queries-self-correcting-and-querying-diverse-data-sources/).\n",
    "\n",
    "## Background (Problem Description and Approach)\n",
    "\n",
    "- **Problem statement**: \n",
    "\n",
    "Text-to-SQL solutions aim to generate SQL queries from natural language to enable non-technical users to access and analyze data. However, existing solutions face challenges related to ambiguity in natural language, needing to recreate capabilities for different databases, and collecting comprehensive metadata. The proposed solution in the text aims to address these challenges by incorporating metadata from AWS Glue Data Catalog, evaluating and correcting generated SQL queries using Amazon Athena feedback with multi-pass prompting, and leveraging Athena's support for diverse data sources.\n",
    "\n",
    "- **Our approach**: \n",
    "\n",
    "[`RAG`] The [RAG approach](https://aws.amazon.com/what-is/retrieval-augmented-generation/) offers several advantages. First, it gives up-to-date, precise responses. Rather than relying only on fixed, outdated training data, RAG utilizes current external sources to formulate its answers. In this solution, we used RAG to increase the accuracy of table name from [AWS Glue Data Catalog](https://docs.aws.amazon.com/glue/latest/dg/catalog-and-crawler.html). \n",
    "\n",
    "[`Vector Store`] [Amazon OpenSearch](https://aws.amazon.com/opensearch-service/) offers three vector engines to choose from, each catering to different use cases.Facebook AI Similarity Search (Faiss) is a library for efficient similarity search and clustering of dense vectors. This code bases used [FAISS for similiarity search](https://aws.amazon.com/about-aws/whats-new/2023/10/amazon-opensearch-service-vector-query-filters-faiss/).\n",
    "\n",
    "[`Amazon Athena`] [Amazon Athena](https://aws.amazon.com/athena/) is a serverless, interactive analytics service built on open-source frameworks, supporting open-table and file formats. Athena provides a simplified, flexible way to analyze petabytes of data where it lives. In this solution, we used Amazon Athena as the SQL engine to \n",
    "\n",
    "[`Amazon Bedrock`] [Amazon Bedrock](https://aws.amazon.com/bedrock/) is a fully managed service that offers a choice of high-performing foundation models (FMs) from leading AI companies like AI21 Labs, Anthropic, Cohere, Meta, Stability AI, and Amazon via a single API, along with a broad set of capabilities you need to build generative AI applications with security, privacy, and responsible AI.\n",
    "\n",
    "We used Bedrock with multi-step / multi-pass component which allows the LLM to correct the generated SQL query for accuracy. Here, the generated SQL is sent for syntax errors. We use Athena error messages to enrich our prompt for the LLM for more accurate and effective corrections in the generated SQL.\n",
    "\n",
    "- *[RAG on AWS](https://aws.amazon.com/what-is/retrieval-augmented-generation/)*\n",
    "- *[The langchain OpenSearch documentation](https://python.langchain.com/en/latest/ecosystem/opensearch.html)*\n",
    "- *[Amazon OpenSearch service documentation](https://docs.aws.amazon.com/opensearch-service/index.html)*\n",
    "- *[Amazon OpenSearch supports efficient vector](https://aws.amazon.com/about-aws/whats-new/2023/10/amazon-opensearch-service-vector-query-filters-faiss/)*\n",
    "\n"
   ]
  },
  {
   "cell_type": "markdown",
   "id": "59e68cc7-f452-4c88-9b49-4c10b069ce0c",
   "metadata": {
    "pycharm": {
     "name": "#%% md\n"
    }
   },
   "source": [
    "---\n",
    "\n",
    "## Overall Workflow\n",
    "\n",
    "**Prerequisite**\n",
    "\n",
    "The following are prerequisites that needs to be accomplised before executing this notebook.\n",
    "This Notebook can be executed via a Sagemaker instance or via a VS Code editor\n",
    "- Create a role having access to bedrock, glue,athena, s3,lakeformation. \n",
    "- Assign the role to the Sagemaker instance or to the instance where VS Code editor is running\n",
    "- Glue Database and tables. Provided spark notebook to create.\n",
    "- An Amazon OpenSearch cluster for storing embeddings.Here Opensearch credenitals are in notebooks. However Opensearch cluster's access credentials (username and password) can be stored in AWS Secrets Mananger by following steps described [here](https://docs.aws.amazon.com/secretsmanager/latest/userguide/managing-secrets.html).\n",
    "\n",
    "**The  workflow for this notebook is as follows:**\n",
    "1. Create an S3 bucket with the name \"knowledgebase-<ACCOUNT_ID>\" \n",
    "    - create a folder \"input\" in that bucket\n",
    "2. Download data from source \n",
    "    - https://developer.imdb.com/non-commercial-datasets/#titleakastsvgz and upload to S3 bucket from step 1 and into the \"input\" folder\n",
    "    - https://developer.imdb.com/non-commercial-datasets/#titlebasicstsvgz and upload to S3 bucket from step 1 and into the \"input\" folder\n",
    "3. Glue Steps\n",
    "    - Create a glue database  \"imdb_stg\" \n",
    "    - Create a glue crawler \"text-2-sql-crawler\" with the datasource set to the S3 bucket created in step 1.   Run the crawler.\n",
    "    - 2 tables should be created in Glue  data catalo.g  Make sure you are able to  query through athena. \n",
    "4.  From the Bedrock console, Create a new knowledgebase \n",
    "1. Install the required Python packages \n",
    "1. Create embedding and vector store. Do a similarity search with embeddings stored in the OpenSearch index for an input query.\n",
    "1. Execute this notebook to generate sql.."
   ]
  },
  {
   "cell_type": "markdown",
   "id": "994fd3e5-416d-4e4a-bfaf-faad2b53dc0c",
   "metadata": {
    "pycharm": {
     "name": "#%% md\n"
    }
   },
   "source": [
    "## Step 1: Setup\n",
    "Install the required packages."
   ]
  },
  {
   "cell_type": "code",
   "execution_count": 1,
   "id": "efc3af34-9c4b-4e95-9147-cf498a74a0c2",
   "metadata": {
    "pycharm": {
     "name": "#%%\n"
    },
    "tags": []
   },
   "outputs": [
    {
     "name": "stdout",
     "output_type": "stream",
     "text": [
      "Requirement already satisfied: boto3 in c:\\python312\\lib\\site-packages (1.34.128)\n",
      "Requirement already satisfied: botocore<1.35.0,>=1.34.128 in c:\\python312\\lib\\site-packages (from boto3) (1.34.128)\n",
      "Requirement already satisfied: jmespath<2.0.0,>=0.7.1 in c:\\python312\\lib\\site-packages (from boto3) (1.0.1)\n",
      "Requirement already satisfied: s3transfer<0.11.0,>=0.10.0 in c:\\python312\\lib\\site-packages (from boto3) (0.10.1)\n",
      "Requirement already satisfied: python-dateutil<3.0.0,>=2.1 in c:\\python312\\lib\\site-packages (from botocore<1.35.0,>=1.34.128->boto3) (2.9.0.post0)\n",
      "Requirement already satisfied: urllib3!=2.2.0,<3,>=1.25.4 in c:\\python312\\lib\\site-packages (from botocore<1.35.0,>=1.34.128->boto3) (2.2.1)\n",
      "Requirement already satisfied: six>=1.5 in c:\\python312\\lib\\site-packages (from python-dateutil<3.0.0,>=2.1->botocore<1.35.0,>=1.34.128->boto3) (1.16.0)\n"
     ]
    },
    {
     "name": "stderr",
     "output_type": "stream",
     "text": [
      "\n",
      "[notice] A new release of pip is available: 24.0 -> 24.2\n",
      "[notice] To update, run: python.exe -m pip install --upgrade pip\n"
     ]
    },
    {
     "name": "stdout",
     "output_type": "stream",
     "text": [
      "Collecting jq\n",
      "  Using cached jq-1.7.0.tar.gz (2.0 MB)\n",
      "  Installing build dependencies: started\n",
      "  Installing build dependencies: finished with status 'done'\n",
      "  Getting requirements to build wheel: started\n",
      "  Getting requirements to build wheel: finished with status 'done'\n",
      "  Preparing metadata (pyproject.toml): started\n",
      "  Preparing metadata (pyproject.toml): finished with status 'done'\n",
      "Building wheels for collected packages: jq\n",
      "  Building wheel for jq (pyproject.toml): started\n",
      "  Building wheel for jq (pyproject.toml): finished with status 'error'\n",
      "Failed to build jq\n"
     ]
    },
    {
     "name": "stderr",
     "output_type": "stream",
     "text": [
      "  error: subprocess-exited-with-error\n",
      "  \n",
      "  × Building wheel for jq (pyproject.toml) did not run successfully.\n",
      "  │ exit code: 1\n",
      "  ╰─> [5 lines of output]\n",
      "      running bdist_wheel\n",
      "      running build\n",
      "      running build_ext\n",
      "      Executing: ./configure CFLAGS=-fPIC -pthread --disable-maintainer-mode --with-oniguruma=builtin\n",
      "      error: [WinError 2] The system cannot find the file specified\n",
      "      [end of output]\n",
      "  \n",
      "  note: This error originates from a subprocess, and is likely not a problem with pip.\n",
      "  ERROR: Failed building wheel for jq\n",
      "ERROR: Could not build wheels for jq, which is required to install pyproject.toml-based projects\n",
      "\n",
      "[notice] A new release of pip is available: 24.0 -> 24.2\n",
      "[notice] To update, run: python.exe -m pip install --upgrade pip\n"
     ]
    },
    {
     "name": "stdout",
     "output_type": "stream",
     "text": [
      "Requirement already satisfied: langchain in c:\\python312\\lib\\site-packages (0.2.5)\n",
      "Requirement already satisfied: PyYAML>=5.3 in c:\\python312\\lib\\site-packages (from langchain) (6.0.1)\n",
      "Requirement already satisfied: SQLAlchemy<3,>=1.4 in c:\\python312\\lib\\site-packages (from langchain) (2.0.30)\n",
      "Requirement already satisfied: aiohttp<4.0.0,>=3.8.3 in c:\\python312\\lib\\site-packages (from langchain) (3.9.5)\n",
      "Requirement already satisfied: langchain-core<0.3.0,>=0.2.7 in c:\\python312\\lib\\site-packages (from langchain) (0.2.7)\n",
      "Requirement already satisfied: langchain-text-splitters<0.3.0,>=0.2.0 in c:\\python312\\lib\\site-packages (from langchain) (0.2.1)\n",
      "Requirement already satisfied: langsmith<0.2.0,>=0.1.17 in c:\\python312\\lib\\site-packages (from langchain) (0.1.77)\n",
      "Requirement already satisfied: numpy<2.0.0,>=1.26.0 in c:\\python312\\lib\\site-packages (from langchain) (1.26.4)\n",
      "Requirement already satisfied: pydantic<3,>=1 in c:\\python312\\lib\\site-packages (from langchain) (2.7.4)\n",
      "Requirement already satisfied: requests<3,>=2 in c:\\python312\\lib\\site-packages (from langchain) (2.32.3)\n",
      "Requirement already satisfied: tenacity<9.0.0,>=8.1.0 in c:\\python312\\lib\\site-packages (from langchain) (8.3.0)\n",
      "Requirement already satisfied: aiosignal>=1.1.2 in c:\\python312\\lib\\site-packages (from aiohttp<4.0.0,>=3.8.3->langchain) (1.3.1)\n",
      "Requirement already satisfied: attrs>=17.3.0 in c:\\python312\\lib\\site-packages (from aiohttp<4.0.0,>=3.8.3->langchain) (23.2.0)\n",
      "Requirement already satisfied: frozenlist>=1.1.1 in c:\\python312\\lib\\site-packages (from aiohttp<4.0.0,>=3.8.3->langchain) (1.4.1)\n",
      "Requirement already satisfied: multidict<7.0,>=4.5 in c:\\python312\\lib\\site-packages (from aiohttp<4.0.0,>=3.8.3->langchain) (6.0.5)\n",
      "Requirement already satisfied: yarl<2.0,>=1.0 in c:\\python312\\lib\\site-packages (from aiohttp<4.0.0,>=3.8.3->langchain) (1.9.4)\n",
      "Requirement already satisfied: jsonpatch<2.0,>=1.33 in c:\\python312\\lib\\site-packages (from langchain-core<0.3.0,>=0.2.7->langchain) (1.33)\n",
      "Requirement already satisfied: packaging<25,>=23.2 in c:\\python312\\lib\\site-packages (from langchain-core<0.3.0,>=0.2.7->langchain) (23.2)\n",
      "Requirement already satisfied: orjson<4.0.0,>=3.9.14 in c:\\python312\\lib\\site-packages (from langsmith<0.2.0,>=0.1.17->langchain) (3.10.4)\n",
      "Requirement already satisfied: annotated-types>=0.4.0 in c:\\python312\\lib\\site-packages (from pydantic<3,>=1->langchain) (0.7.0)\n",
      "Requirement already satisfied: pydantic-core==2.18.4 in c:\\python312\\lib\\site-packages (from pydantic<3,>=1->langchain) (2.18.4)\n",
      "Requirement already satisfied: typing-extensions>=4.6.1 in c:\\python312\\lib\\site-packages (from pydantic<3,>=1->langchain) (4.10.0)\n",
      "Requirement already satisfied: charset-normalizer<4,>=2 in c:\\python312\\lib\\site-packages (from requests<3,>=2->langchain) (3.3.2)\n",
      "Requirement already satisfied: idna<4,>=2.5 in c:\\python312\\lib\\site-packages (from requests<3,>=2->langchain) (3.6)\n",
      "Requirement already satisfied: urllib3<3,>=1.21.1 in c:\\python312\\lib\\site-packages (from requests<3,>=2->langchain) (2.2.1)\n",
      "Requirement already satisfied: certifi>=2017.4.17 in c:\\python312\\lib\\site-packages (from requests<3,>=2->langchain) (2024.2.2)\n",
      "Requirement already satisfied: greenlet!=0.4.17 in c:\\python312\\lib\\site-packages (from SQLAlchemy<3,>=1.4->langchain) (3.0.3)\n",
      "Requirement already satisfied: jsonpointer>=1.9 in c:\\python312\\lib\\site-packages (from jsonpatch<2.0,>=1.33->langchain-core<0.3.0,>=0.2.7->langchain) (3.0.0)\n"
     ]
    },
    {
     "name": "stderr",
     "output_type": "stream",
     "text": [
      "\n",
      "[notice] A new release of pip is available: 24.0 -> 24.2\n",
      "[notice] To update, run: python.exe -m pip install --upgrade pip\n"
     ]
    },
    {
     "name": "stdout",
     "output_type": "stream",
     "text": [
      "Requirement already satisfied: langchain-community in c:\\python312\\lib\\site-packages (0.2.4)\n",
      "Requirement already satisfied: langchain-core in c:\\python312\\lib\\site-packages (0.2.7)\n",
      "Requirement already satisfied: PyYAML>=5.3 in c:\\python312\\lib\\site-packages (from langchain-community) (6.0.1)\n",
      "Requirement already satisfied: SQLAlchemy<3,>=1.4 in c:\\python312\\lib\\site-packages (from langchain-community) (2.0.30)\n",
      "Requirement already satisfied: aiohttp<4.0.0,>=3.8.3 in c:\\python312\\lib\\site-packages (from langchain-community) (3.9.5)\n",
      "Requirement already satisfied: dataclasses-json<0.7,>=0.5.7 in c:\\python312\\lib\\site-packages (from langchain-community) (0.6.7)\n",
      "Requirement already satisfied: langchain<0.3.0,>=0.2.0 in c:\\python312\\lib\\site-packages (from langchain-community) (0.2.5)\n",
      "Requirement already satisfied: langsmith<0.2.0,>=0.1.0 in c:\\python312\\lib\\site-packages (from langchain-community) (0.1.77)\n",
      "Requirement already satisfied: numpy<2,>=1 in c:\\python312\\lib\\site-packages (from langchain-community) (1.26.4)\n",
      "Requirement already satisfied: requests<3,>=2 in c:\\python312\\lib\\site-packages (from langchain-community) (2.32.3)\n",
      "Requirement already satisfied: tenacity<9.0.0,>=8.1.0 in c:\\python312\\lib\\site-packages (from langchain-community) (8.3.0)\n",
      "Requirement already satisfied: jsonpatch<2.0,>=1.33 in c:\\python312\\lib\\site-packages (from langchain-core) (1.33)\n",
      "Requirement already satisfied: packaging<25,>=23.2 in c:\\python312\\lib\\site-packages (from langchain-core) (23.2)\n",
      "Requirement already satisfied: pydantic<3,>=1 in c:\\python312\\lib\\site-packages (from langchain-core) (2.7.4)\n",
      "Requirement already satisfied: aiosignal>=1.1.2 in c:\\python312\\lib\\site-packages (from aiohttp<4.0.0,>=3.8.3->langchain-community) (1.3.1)\n",
      "Requirement already satisfied: attrs>=17.3.0 in c:\\python312\\lib\\site-packages (from aiohttp<4.0.0,>=3.8.3->langchain-community) (23.2.0)\n",
      "Requirement already satisfied: frozenlist>=1.1.1 in c:\\python312\\lib\\site-packages (from aiohttp<4.0.0,>=3.8.3->langchain-community) (1.4.1)\n",
      "Requirement already satisfied: multidict<7.0,>=4.5 in c:\\python312\\lib\\site-packages (from aiohttp<4.0.0,>=3.8.3->langchain-community) (6.0.5)\n",
      "Requirement already satisfied: yarl<2.0,>=1.0 in c:\\python312\\lib\\site-packages (from aiohttp<4.0.0,>=3.8.3->langchain-community) (1.9.4)\n",
      "Requirement already satisfied: marshmallow<4.0.0,>=3.18.0 in c:\\python312\\lib\\site-packages (from dataclasses-json<0.7,>=0.5.7->langchain-community) (3.21.3)\n",
      "Requirement already satisfied: typing-inspect<1,>=0.4.0 in c:\\python312\\lib\\site-packages (from dataclasses-json<0.7,>=0.5.7->langchain-community) (0.9.0)\n",
      "Requirement already satisfied: jsonpointer>=1.9 in c:\\python312\\lib\\site-packages (from jsonpatch<2.0,>=1.33->langchain-core) (3.0.0)\n",
      "Requirement already satisfied: langchain-text-splitters<0.3.0,>=0.2.0 in c:\\python312\\lib\\site-packages (from langchain<0.3.0,>=0.2.0->langchain-community) (0.2.1)\n",
      "Requirement already satisfied: orjson<4.0.0,>=3.9.14 in c:\\python312\\lib\\site-packages (from langsmith<0.2.0,>=0.1.0->langchain-community) (3.10.4)\n",
      "Requirement already satisfied: annotated-types>=0.4.0 in c:\\python312\\lib\\site-packages (from pydantic<3,>=1->langchain-core) (0.7.0)\n",
      "Requirement already satisfied: pydantic-core==2.18.4 in c:\\python312\\lib\\site-packages (from pydantic<3,>=1->langchain-core) (2.18.4)\n",
      "Requirement already satisfied: typing-extensions>=4.6.1 in c:\\python312\\lib\\site-packages (from pydantic<3,>=1->langchain-core) (4.10.0)\n",
      "Requirement already satisfied: charset-normalizer<4,>=2 in c:\\python312\\lib\\site-packages (from requests<3,>=2->langchain-community) (3.3.2)\n",
      "Requirement already satisfied: idna<4,>=2.5 in c:\\python312\\lib\\site-packages (from requests<3,>=2->langchain-community) (3.6)\n",
      "Requirement already satisfied: urllib3<3,>=1.21.1 in c:\\python312\\lib\\site-packages (from requests<3,>=2->langchain-community) (2.2.1)\n",
      "Requirement already satisfied: certifi>=2017.4.17 in c:\\python312\\lib\\site-packages (from requests<3,>=2->langchain-community) (2024.2.2)\n",
      "Requirement already satisfied: greenlet!=0.4.17 in c:\\python312\\lib\\site-packages (from SQLAlchemy<3,>=1.4->langchain-community) (3.0.3)\n",
      "Requirement already satisfied: mypy-extensions>=0.3.0 in c:\\python312\\lib\\site-packages (from typing-inspect<1,>=0.4.0->dataclasses-json<0.7,>=0.5.7->langchain-community) (1.0.0)\n"
     ]
    },
    {
     "name": "stderr",
     "output_type": "stream",
     "text": [
      "\n",
      "[notice] A new release of pip is available: 24.0 -> 24.2\n",
      "[notice] To update, run: python.exe -m pip install --upgrade pip\n"
     ]
    },
    {
     "name": "stdout",
     "output_type": "stream",
     "text": [
      "Requirement already satisfied: pandas in c:\\python312\\lib\\site-packages (2.2.2)\n",
      "Requirement already satisfied: numpy>=1.26.0 in c:\\python312\\lib\\site-packages (from pandas) (1.26.4)\n",
      "Requirement already satisfied: python-dateutil>=2.8.2 in c:\\python312\\lib\\site-packages (from pandas) (2.9.0.post0)\n",
      "Requirement already satisfied: pytz>=2020.1 in c:\\python312\\lib\\site-packages (from pandas) (2024.1)\n",
      "Requirement already satisfied: tzdata>=2022.7 in c:\\python312\\lib\\site-packages (from pandas) (2024.1)\n",
      "Requirement already satisfied: six>=1.5 in c:\\python312\\lib\\site-packages (from python-dateutil>=2.8.2->pandas) (1.16.0)\n"
     ]
    },
    {
     "name": "stderr",
     "output_type": "stream",
     "text": [
      "\n",
      "[notice] A new release of pip is available: 24.0 -> 24.2\n",
      "[notice] To update, run: python.exe -m pip install --upgrade pip\n"
     ]
    },
    {
     "name": "stdout",
     "output_type": "stream",
     "text": [
      "Requirement already satisfied: opensearch-py in c:\\python312\\lib\\site-packages (2.6.0)\n",
      "Requirement already satisfied: requests<3.0.0,>=2.4.0 in c:\\python312\\lib\\site-packages (from opensearch-py) (2.32.3)\n",
      "Requirement already satisfied: six in c:\\python312\\lib\\site-packages (from opensearch-py) (1.16.0)\n",
      "Requirement already satisfied: python-dateutil in c:\\python312\\lib\\site-packages (from opensearch-py) (2.9.0.post0)\n",
      "Requirement already satisfied: certifi>=2022.12.07 in c:\\python312\\lib\\site-packages (from opensearch-py) (2024.2.2)\n",
      "Requirement already satisfied: Events in c:\\python312\\lib\\site-packages (from opensearch-py) (0.5)\n",
      "Requirement already satisfied: urllib3!=2.2.0,<3,>=1.26.18 in c:\\python312\\lib\\site-packages (from opensearch-py) (2.2.1)\n",
      "Requirement already satisfied: charset-normalizer<4,>=2 in c:\\python312\\lib\\site-packages (from requests<3.0.0,>=2.4.0->opensearch-py) (3.3.2)\n",
      "Requirement already satisfied: idna<4,>=2.5 in c:\\python312\\lib\\site-packages (from requests<3.0.0,>=2.4.0->opensearch-py) (3.6)\n"
     ]
    },
    {
     "name": "stderr",
     "output_type": "stream",
     "text": [
      "\n",
      "[notice] A new release of pip is available: 24.0 -> 24.2\n",
      "[notice] To update, run: python.exe -m pip install --upgrade pip\n"
     ]
    },
    {
     "name": "stdout",
     "output_type": "stream",
     "text": [
      "Requirement already satisfied: langchain-aws in c:\\python312\\lib\\site-packages (0.1.6)\n",
      "Requirement already satisfied: boto3<1.35.0,>=1.34.51 in c:\\python312\\lib\\site-packages (from langchain-aws) (1.34.128)\n",
      "Requirement already satisfied: langchain-core<0.3,>=0.1.45 in c:\\python312\\lib\\site-packages (from langchain-aws) (0.2.7)\n",
      "Requirement already satisfied: numpy<2,>=1 in c:\\python312\\lib\\site-packages (from langchain-aws) (1.26.4)\n",
      "Requirement already satisfied: botocore<1.35.0,>=1.34.128 in c:\\python312\\lib\\site-packages (from boto3<1.35.0,>=1.34.51->langchain-aws) (1.34.128)\n",
      "Requirement already satisfied: jmespath<2.0.0,>=0.7.1 in c:\\python312\\lib\\site-packages (from boto3<1.35.0,>=1.34.51->langchain-aws) (1.0.1)\n",
      "Requirement already satisfied: s3transfer<0.11.0,>=0.10.0 in c:\\python312\\lib\\site-packages (from boto3<1.35.0,>=1.34.51->langchain-aws) (0.10.1)\n",
      "Requirement already satisfied: PyYAML>=5.3 in c:\\python312\\lib\\site-packages (from langchain-core<0.3,>=0.1.45->langchain-aws) (6.0.1)\n",
      "Requirement already satisfied: jsonpatch<2.0,>=1.33 in c:\\python312\\lib\\site-packages (from langchain-core<0.3,>=0.1.45->langchain-aws) (1.33)\n",
      "Requirement already satisfied: langsmith<0.2.0,>=0.1.75 in c:\\python312\\lib\\site-packages (from langchain-core<0.3,>=0.1.45->langchain-aws) (0.1.77)\n",
      "Requirement already satisfied: packaging<25,>=23.2 in c:\\python312\\lib\\site-packages (from langchain-core<0.3,>=0.1.45->langchain-aws) (23.2)\n",
      "Requirement already satisfied: pydantic<3,>=1 in c:\\python312\\lib\\site-packages (from langchain-core<0.3,>=0.1.45->langchain-aws) (2.7.4)\n",
      "Requirement already satisfied: tenacity<9.0.0,>=8.1.0 in c:\\python312\\lib\\site-packages (from langchain-core<0.3,>=0.1.45->langchain-aws) (8.3.0)\n",
      "Requirement already satisfied: python-dateutil<3.0.0,>=2.1 in c:\\python312\\lib\\site-packages (from botocore<1.35.0,>=1.34.128->boto3<1.35.0,>=1.34.51->langchain-aws) (2.9.0.post0)\n",
      "Requirement already satisfied: urllib3!=2.2.0,<3,>=1.25.4 in c:\\python312\\lib\\site-packages (from botocore<1.35.0,>=1.34.128->boto3<1.35.0,>=1.34.51->langchain-aws) (2.2.1)\n",
      "Requirement already satisfied: jsonpointer>=1.9 in c:\\python312\\lib\\site-packages (from jsonpatch<2.0,>=1.33->langchain-core<0.3,>=0.1.45->langchain-aws) (3.0.0)\n",
      "Requirement already satisfied: orjson<4.0.0,>=3.9.14 in c:\\python312\\lib\\site-packages (from langsmith<0.2.0,>=0.1.75->langchain-core<0.3,>=0.1.45->langchain-aws) (3.10.4)\n",
      "Requirement already satisfied: requests<3,>=2 in c:\\python312\\lib\\site-packages (from langsmith<0.2.0,>=0.1.75->langchain-core<0.3,>=0.1.45->langchain-aws) (2.32.3)\n",
      "Requirement already satisfied: annotated-types>=0.4.0 in c:\\python312\\lib\\site-packages (from pydantic<3,>=1->langchain-core<0.3,>=0.1.45->langchain-aws) (0.7.0)\n",
      "Requirement already satisfied: pydantic-core==2.18.4 in c:\\python312\\lib\\site-packages (from pydantic<3,>=1->langchain-core<0.3,>=0.1.45->langchain-aws) (2.18.4)\n",
      "Requirement already satisfied: typing-extensions>=4.6.1 in c:\\python312\\lib\\site-packages (from pydantic<3,>=1->langchain-core<0.3,>=0.1.45->langchain-aws) (4.10.0)\n",
      "Requirement already satisfied: six>=1.5 in c:\\python312\\lib\\site-packages (from python-dateutil<3.0.0,>=2.1->botocore<1.35.0,>=1.34.128->boto3<1.35.0,>=1.34.51->langchain-aws) (1.16.0)\n",
      "Requirement already satisfied: charset-normalizer<4,>=2 in c:\\python312\\lib\\site-packages (from requests<3,>=2->langsmith<0.2.0,>=0.1.75->langchain-core<0.3,>=0.1.45->langchain-aws) (3.3.2)\n",
      "Requirement already satisfied: idna<4,>=2.5 in c:\\python312\\lib\\site-packages (from requests<3,>=2->langsmith<0.2.0,>=0.1.75->langchain-core<0.3,>=0.1.45->langchain-aws) (3.6)\n",
      "Requirement already satisfied: certifi>=2017.4.17 in c:\\python312\\lib\\site-packages (from requests<3,>=2->langsmith<0.2.0,>=0.1.75->langchain-core<0.3,>=0.1.45->langchain-aws) (2024.2.2)\n"
     ]
    },
    {
     "name": "stderr",
     "output_type": "stream",
     "text": [
      "\n",
      "[notice] A new release of pip is available: 24.0 -> 24.2\n",
      "[notice] To update, run: python.exe -m pip install --upgrade pip\n"
     ]
    },
    {
     "name": "stdout",
     "output_type": "stream",
     "text": [
      "Requirement already satisfied: requests-aws4auth in c:\\python312\\lib\\site-packages (1.2.3)\n",
      "Requirement already satisfied: requests in c:\\python312\\lib\\site-packages (from requests-aws4auth) (2.32.3)\n",
      "Requirement already satisfied: six in c:\\python312\\lib\\site-packages (from requests-aws4auth) (1.16.0)\n",
      "Requirement already satisfied: charset-normalizer<4,>=2 in c:\\python312\\lib\\site-packages (from requests->requests-aws4auth) (3.3.2)\n",
      "Requirement already satisfied: idna<4,>=2.5 in c:\\python312\\lib\\site-packages (from requests->requests-aws4auth) (3.6)\n",
      "Requirement already satisfied: urllib3<3,>=1.21.1 in c:\\python312\\lib\\site-packages (from requests->requests-aws4auth) (2.2.1)\n",
      "Requirement already satisfied: certifi>=2017.4.17 in c:\\python312\\lib\\site-packages (from requests->requests-aws4auth) (2024.2.2)\n"
     ]
    },
    {
     "name": "stderr",
     "output_type": "stream",
     "text": [
      "\n",
      "[notice] A new release of pip is available: 24.0 -> 24.2\n",
      "[notice] To update, run: python.exe -m pip install --upgrade pip\n"
     ]
    },
    {
     "name": "stdout",
     "output_type": "stream",
     "text": [
      "Requirement already satisfied: botocore in c:\\python312\\lib\\site-packages (1.34.128)\n",
      "Requirement already satisfied: jmespath<2.0.0,>=0.7.1 in c:\\python312\\lib\\site-packages (from botocore) (1.0.1)\n",
      "Requirement already satisfied: python-dateutil<3.0.0,>=2.1 in c:\\python312\\lib\\site-packages (from botocore) (2.9.0.post0)\n",
      "Requirement already satisfied: urllib3!=2.2.0,<3,>=1.25.4 in c:\\python312\\lib\\site-packages (from botocore) (2.2.1)\n",
      "Requirement already satisfied: six>=1.5 in c:\\python312\\lib\\site-packages (from python-dateutil<3.0.0,>=2.1->botocore) (1.16.0)\n"
     ]
    },
    {
     "name": "stderr",
     "output_type": "stream",
     "text": [
      "\n",
      "[notice] A new release of pip is available: 24.0 -> 24.2\n",
      "[notice] To update, run: python.exe -m pip install --upgrade pip\n"
     ]
    }
   ],
   "source": [
    "!pip3 install boto3\n",
    "!pip3 install jq\n",
    "\n",
    "!pip3 install langchain\n",
    "!pip3 install langchain-community langchain-core\n",
    "!pip3 install pandas\n",
    "!pip3 install opensearch-py\n",
    "!pip3 install langchain-aws\n",
    "!pip3 install requests-aws4auth\n",
    "!pip3 install botocore"
   ]
  },
  {
   "cell_type": "markdown",
   "id": "d87f072e-88b1-4afc-ba4a-daa49f05bcd8",
   "metadata": {
    "pycharm": {
     "name": "#%% md\n"
    }
   },
   "source": [
    "## Step 2: Import all modules. There are some modules in other folder."
   ]
  },
  {
   "cell_type": "code",
   "execution_count": 3,
   "id": "987d606c-5200-462b-8cce-ec377760361e",
   "metadata": {
    "pycharm": {
     "name": "#%%\n"
    },
    "tags": []
   },
   "outputs": [],
   "source": [
    "import boto3\n",
    "from botocore.config import Config\n",
    "from langchain_community.embeddings import BedrockEmbeddings\n",
    "from langchain_aws import BedrockLLM\n",
    "import traceback"
   ]
  },
  {
   "cell_type": "code",
   "execution_count": 4,
   "id": "ef96ac35-3597-4bd8-80ca-035c6c98050b",
   "metadata": {
    "pycharm": {
     "name": "#%%\n"
    },
    "tags": []
   },
   "outputs": [],
   "source": [
    "import logging \n",
    "import json\n",
    "import os,sys\n",
    "import re\n",
    "import time\n",
    "import pandas as pd\n",
    "import io"
   ]
  },
  {
   "cell_type": "code",
   "execution_count": 5,
   "id": "482a9055-6cc2-419c-839f-ca1326b04957",
   "metadata": {
    "pycharm": {
     "name": "#%%\n"
    }
   },
   "outputs": [],
   "source": [
    "from boto_client import Clientmodules\n",
    "from llm_basemodel import LanguageModel\n",
    "from athena_execution import AthenaQueryExecute\n",
    "from openSearchVCEmbedding import EmbeddingBedrockOpenSearch"
   ]
  },
  {
   "cell_type": "code",
   "execution_count": 6,
   "id": "f03e654e-024f-4837-82d1-7f277344c46f",
   "metadata": {
    "pycharm": {
     "name": "#%%\n"
    },
    "tags": []
   },
   "outputs": [],
   "source": [
    "logger = logging.getLogger(__name__)\n",
    "logger.setLevel(logging.DEBUG)\n",
    "logger.addHandler(logging.StreamHandler())"
   ]
  },
  {
   "cell_type": "markdown",
   "id": "e2a6d68a-cf48-4b7f-94c5-418f2cc8f44a",
   "metadata": {
    "pycharm": {
     "name": "#%% md\n"
    },
    "tags": []
   },
   "source": [
    "## Step 3: Checking access to Bedrock"
   ]
  },
  {
   "cell_type": "code",
   "execution_count": 5,
   "id": "436fb4f1-cd34-4146-bc96-da5e3608d720",
   "metadata": {
    "pycharm": {
     "name": "#%%\n"
    },
    "tags": []
   },
   "outputs": [
    {
     "name": "stdout",
     "output_type": "stream",
     "text": [
      "{'modelArn': 'arn:aws:bedrock:us-east-1::foundation-model/amazon.titan-tg1-large', 'modelId': 'amazon.titan-tg1-large', 'modelName': 'Titan Text Large', 'providerName': 'Amazon', 'inputModalities': ['TEXT'], 'outputModalities': ['TEXT'], 'responseStreamingSupported': True, 'customizationsSupported': [], 'inferenceTypesSupported': ['ON_DEMAND'], 'modelLifecycle': {'status': 'ACTIVE'}}\n"
     ]
    }
   ],
   "source": [
    "session = boto3.session.Session()\n",
    "bedrock_client = session.client('bedrock')\n",
    "print(bedrock_client.list_foundation_models()['modelSummaries'][0])"
   ]
  },
  {
   "cell_type": "markdown",
   "id": "4b2217e5-dc53-428f-b224-fb3ac9e8f952",
   "metadata": {
    "pycharm": {
     "name": "#%% md\n"
    }
   },
   "source": [
    "## Step 4: Invoking Athena and Bedrock"
   ]
  },
  {
   "cell_type": "code",
   "execution_count": 9,
   "id": "72e44bd9-8787-447a-b5e0-0961547bafef",
   "metadata": {
    "pycharm": {
     "name": "#%%\n"
    },
    "tags": []
   },
   "outputs": [
    {
     "name": "stderr",
     "output_type": "stream",
     "text": [
      "athena client created \n",
      "s3 client created !!\n"
     ]
    }
   ],
   "source": [
    "rqstath=AthenaQueryExecute()"
   ]
  },
  {
   "cell_type": "markdown",
   "id": "c46db72d",
   "metadata": {},
   "source": [
    "### Step 4.1 Update the variables"
   ]
  },
  {
   "cell_type": "code",
   "execution_count": 8,
   "id": "e6b0cedd-0fcb-4a3b-a7be-50bd25197230",
   "metadata": {
    "pycharm": {
     "name": "#%%\n"
    }
   },
   "outputs": [],
   "source": [
    "\n",
    "index_name = 'bedrock-knowledge-base-default-index'  \n",
    "domain = 'https://wi3kkhxignse60pcjop5.us-east-1.aoss.amazonaws.com'\n",
    "vector_name = 'bedrock-knowledge-base-default-vector'\n",
    "fieldname = 'id'\n",
    "   "
   ]
  },
  {
   "cell_type": "code",
   "execution_count": 10,
   "id": "9af3a226",
   "metadata": {},
   "outputs": [
    {
     "name": "stderr",
     "output_type": "stream",
     "text": [
      "bedrock runtime client created \n"
     ]
    },
    {
     "name": "stdout",
     "output_type": "stream",
     "text": [
      "bedrockllm\n",
      "<llm_basemodel.LanguageModel object at 0x000001A2FB3E5AF0>\n",
      "bedrock_client: <botocore.client.BedrockRuntime object at 0x000001A2FDAC9580>, language_model: <llm_basemodel.LanguageModel object at 0x000001A2FB3E5AF0>, llm: client=<botocore.client.BedrockRuntime object at 0x000001A2FDAC9580> model_id='anthropic.claude-3-sonnet-20240229-v1:0' model_kwargs={'temperature': 0, 'top_k': 20, 'top_p': 1, 'stop_sequences': ['\\n\\nHuman:']}, embeddings: client=<botocore.client.BedrockRuntime object at 0x000001A2FDAC9580> region_name=None credentials_profile_name=None model_id='amazon.titan-embed-text-v1' model_kwargs=None endpoint_url=None normalize=False, opensearch_domain_endpoint: https://wi3kkhxignse60pcjop5.us-east-1.aoss.amazonaws.com, http_auth: <requests_aws4auth.aws4auth.AWS4Auth object at 0x000001A2FB283290>, vector_name: bedrock-knowledge-base-default-vector, fieldname: id\n"
     ]
    }
   ],
   "source": [
    "ebropen2=EmbeddingBedrockOpenSearch(domain,  vector_name,  fieldname)\n",
    "if ebropen2 is None:\n",
    "    print(\"ebropen2 is null\")\n",
    "else:\n",
    "    attrs = vars(ebropen2)\n",
    "    print(', '.join(\"%s: %s\" % item for item in attrs.items()))"
   ]
  },
  {
   "cell_type": "markdown",
   "id": "73833ad4-d3e0-46a5-acd0-2e112e23fcc9",
   "metadata": {
    "pycharm": {
     "name": "#%% md\n"
    },
    "tags": []
   },
   "source": [
    "## Step 5: Core logic\n",
    "1. getEmbeddding : Take the input user query and vector search to find the schema from vector db created.\n",
    "2. generate_sql: Taking the input prompt, generate sql . syntax_checker helps to check the sql syntax.\n"
   ]
  },
  {
   "cell_type": "code",
   "execution_count": 11,
   "id": "fdcd87a9-f028-43ab-94a4-8d9b5b5bd163",
   "metadata": {
    "pycharm": {
     "name": "#%%\n"
    },
    "tags": []
   },
   "outputs": [],
   "source": [
    "class RequestQueryBedrock:\n",
    "    def __init__(self, ebropen2):\n",
    "    \n",
    "        ##self.bedrock_client = Clientmodules.createBedrockRuntimeClient()\n",
    "        self.ebropen2 = ebropen2\n",
    "  \n",
    "\n",
    "        self.bedrock_client = ebropen2.bedrock_client\n",
    "        if self.bedrock_client is None:\n",
    "            self.bedrock_client = Clientmodules.createBedrockRuntimeClient()\n",
    "        else : \n",
    "            print(\"the bedrock_client is not null\")\n",
    "        self.language_model = LanguageModel(self.bedrock_client)\n",
    "        self.llm = self.language_model.llm\n",
    "        \n",
    "    def getOpenSearchEmbedding(self, index_name,user_query):\n",
    "        vcindxdoc=self.ebropen2.getDocumentfromIndex(index_name=index_name)\n",
    "        documnet=self.ebropen2.getSimilaritySearch(user_query,vcindxdoc)\n",
    "        #return self.ebropen2.format_metadata(documnet)\n",
    "        return self.ebropen2.get_data(documnet)\n",
    "        \n",
    "    def generate_sql(self,prompt, max_attempt=4) ->str:\n",
    "            \"\"\"\n",
    "            Generate and Validate SQL query.\n",
    "\n",
    "            Args:\n",
    "            - prompt (str): Prompt is user input and metadata from Rag to generating SQL.\n",
    "            - max_attempt (int): Maximum number of attempts correct the syntax SQL.\n",
    "\n",
    "            Returns:\n",
    "            - string: Sql query is returned .\n",
    "            \"\"\"\n",
    "            attempt = 0\n",
    "            error_messages = []\n",
    "            prompts = [prompt]\n",
    "\n",
    "            while attempt < max_attempt:\n",
    "                logger.info(f'Sql Generation attempt Count: {attempt+1}')\n",
    "                try:\n",
    "                    logger.info(f'we are in Try block to generate the sql and count is :{attempt+1}')\n",
    "                    generated_sql = self.llm.predict(prompt)\n",
    "                    query_str = generated_sql.split(\"```\")[1]\n",
    "                    query_str = \" \".join(query_str.split(\"\\n\")).strip()                    \n",
    "                    sql_query = query_str[3:] if query_str.startswith(\"sql\") else query_str\n",
    "                    print(sql_query)\n",
    "                    # return sql_query\n",
    "                    syntaxcheckmsg=rqstath.syntax_checker(sql_query)\n",
    "                    if syntaxcheckmsg=='Passed':\n",
    "                        logger.info(f'syntax checked for query passed in attempt number :{attempt+1}')\n",
    "                        return sql_query\n",
    "                    else:\n",
    "                        prompt = f\"\"\"{prompt}\n",
    "                        This is syntax error: {syntaxcheckmsg}. \n",
    "                        To correct this, please generate an alternative SQL query which will correct the syntax error.\n",
    "                        The updated query should take care of all the syntax issues encountered.\n",
    "                        Follow the instructions mentioned above to remediate the error. \n",
    "                        Update the below SQL query to resolve the issue:\n",
    "                        {sqlgenerated}\n",
    "                        Make sure the updated SQL query aligns with the requirements provided in the initial question.\"\"\"\n",
    "                        prompts.append(prompt)\n",
    "                        attempt += 1\n",
    "                except Exception as e:\n",
    "                    print(e)\n",
    "                    logger.error('FAILED')\n",
    "                    msg = str(e)\n",
    "                    error_messages.append(msg)\n",
    "                    attempt += 1\n",
    "            return sql_query"
   ]
  },
  {
   "cell_type": "markdown",
   "id": "d5cc21a1",
   "metadata": {},
   "source": [
    "Create an instance of  RequestQueryBedrock class"
   ]
  },
  {
   "cell_type": "code",
   "execution_count": 12,
   "id": "13da2f51-6032-4564-8943-3c36e55b025f",
   "metadata": {
    "pycharm": {
     "name": "#%%\n"
    },
    "tags": []
   },
   "outputs": [
    {
     "name": "stdout",
     "output_type": "stream",
     "text": [
      "the bedrock_client is not null\n",
      "bedrockllm\n"
     ]
    }
   ],
   "source": [
    "rqst=RequestQueryBedrock(ebropen2)"
   ]
  },
  {
   "cell_type": "code",
   "execution_count": 13,
   "id": "db6b4e5f-b52e-4209-aab7-403dabc61239",
   "metadata": {
    "pycharm": {
     "name": "#%%\n"
    },
    "tags": []
   },
   "outputs": [],
   "source": [
    "def userinput(user_query):\n",
    "    logger.info(f'Searching metadata from vector store')\n",
    "    # vector_search_match=rqst.getEmbeddding(user_query)\n",
    "    vector_search_match=rqst.getOpenSearchEmbedding( index_name,user_query)\n",
    "    print(\"Vector SEARCH MATCH\")\n",
    "    print(vector_search_match)\n",
    "    details=\"It is important that the SQL query complies with Athena syntax. During join if column name are same please use alias ex llm.customer_id in select statement. It is also important to respect the type of columns: if a column is string, the value should be enclosed in quotes. If you are writing CTEs then include all the required columns. While concatenating a non string column, make sure cast the column to string. For date columns comparing to string , please cast the string input. Alwayws use the database name along with the table name\"\n",
    "    final_question = \"\\n\\nHuman:\"+details + vector_search_match + user_query+ \"n\\nAssistant:\"\n",
    "    print(\"FINAL QUESTION :::\" + final_question)\n",
    "    answer = rqst.generate_sql(final_question)\n",
    "    return answer"
   ]
  },
  {
   "cell_type": "markdown",
   "id": "68ebe772-af08-4df5-b950-3d6aa35dd1cb",
   "metadata": {
    "pycharm": {
     "name": "#%% md\n"
    }
   },
   "source": [
    "## Step 6: User input in Natural Language"
   ]
  },
  {
   "cell_type": "code",
   "execution_count": 24,
   "id": "21d5b62a-4446-43d2-a4bf-6d51061160a9",
   "metadata": {
    "pycharm": {
     "name": "#%%\n"
    },
    "tags": []
   },
   "outputs": [],
   "source": [
    "#user_query='how many titles exist '\n",
    "#user_query = 'show me top 10 title by user rating'\n",
    "#user_query = 'show me top 10 titles in US region'\n",
    "#user_query = 'which year was a movie/title  made'\n",
    "user_query = 'how many titles are from the US region'"
   ]
  },
  {
   "cell_type": "code",
   "execution_count": 25,
   "id": "ec2cf58a-1cff-4530-8fa8-d89e003feac2",
   "metadata": {
    "pycharm": {
     "name": "#%%\n"
    }
   },
   "outputs": [
    {
     "name": "stderr",
     "output_type": "stream",
     "text": [
      "Searching metadata from vector store\n",
      "Sql Generation attempt Count: 1\n",
      "we are in Try block to generate the sql and count is :1\n"
     ]
    },
    {
     "name": "stdout",
     "output_type": "stream",
     "text": [
      "Vector SEARCH MATCH\n",
      "{\"Name\": \"title\",\"Type\": \"string\",\"Comment\": \"The localized title\"},{\"Name\": \"region\",\"Type\": \"string\",\"Comment\": \"region for this version of the title\"},{\"Name\": \"language\",\"Type\": \"string\",\"Comment\": \"the language of the title\"},{\"Name\": \"types\",\"Type\": \"string\",\"Comment\": \"Enumerated set of attributes for this alternative title. One or more of the following: alternative, dvd, festival, tv, video, working, original, imdbDisplay. New values may be added in the future without warning\"},{\"Name\": \"attributes\",\"Type\": \"string\",\"Comment\": \"Additional terms to describe this alternative title, not enumerated\"},{\"Name\": \"isOriginalTitle\",\"Type\": \"string\",\"Comment\": \"0: not original title; 1: original title\"}]},{\"database_name\": \"text2sql\",\"table_name\": \"title_rating\",\"table_description\": \"This dataset contains ratings details\"\n",
      "[{\"database_name\": \"text2sql\",\"table_name\": \"title\",\"table_description\": \"This dataset contains title details.\",\"relationships\": {\"primary_key\": [{ \"column_name\": \"titleId\", \"constraint\": \"not null\"},{ \"column_name\": \"ordering\", \"constraint\": \"not null\"}],\"foreign_keys\": [{ \"database_name\": \"text2sql\", \"table_name\": \"title_ratings\", \"join_on_column\": \"tconst\"}]},\"columns\": [{\"Name\": \"titleId\",\"Type\": \"string\",\"Comment\": \"This is the unique identifier of the title\"},{\"Name\": \"ordering\",\"Type\": \"integer\",\"Comment\": \"This is the uniquely identify rows for a given titleId\"},{\"Name\": \"title\",\"Type\": \"string\",\"Comment\": \"The localized title\"},{\"Name\": \"region\",\"Type\": \"string\",\"Comment\n",
      "Comment\": \"0: not original title; 1: original title\"}]},{\"database_name\": \"text2sql\",\"table_name\": \"title_rating\",\"table_description\": \"This dataset contains ratings details\",\"relationships\": {\"primary_key\": [{ \"column_name\": \"tconst\", \"constraint\": \"not null\"}]},\"columns\": [{\"Name\": \"tconst\",\"Type\": \"string\",\"Comment\": \"This is the unique identifier of the title\"},{\"Name\": \"averagerating\",\"Type\": \"integer\",\"Comment\": \"Weighted average of all the individual user ratings\"},{\"Name\": \"numVotes\",\"Type\": \"string\",\"Comment\": \"Number of votes the title has received\"}]}  ]\n",
      "FINAL QUESTION :::\n",
      "\n",
      "Human:It is important that the SQL query complies with Athena syntax. During join if column name are same please use alias ex llm.customer_id in select statement. It is also important to respect the type of columns: if a column is string, the value should be enclosed in quotes. If you are writing CTEs then include all the required columns. While concatenating a non string column, make sure cast the column to string. For date columns comparing to string , please cast the string input. Alwayws use the database name along with the table name{\"Name\": \"title\",\"Type\": \"string\",\"Comment\": \"The localized title\"},{\"Name\": \"region\",\"Type\": \"string\",\"Comment\": \"region for this version of the title\"},{\"Name\": \"language\",\"Type\": \"string\",\"Comment\": \"the language of the title\"},{\"Name\": \"types\",\"Type\": \"string\",\"Comment\": \"Enumerated set of attributes for this alternative title. One or more of the following: alternative, dvd, festival, tv, video, working, original, imdbDisplay. New values may be added in the future without warning\"},{\"Name\": \"attributes\",\"Type\": \"string\",\"Comment\": \"Additional terms to describe this alternative title, not enumerated\"},{\"Name\": \"isOriginalTitle\",\"Type\": \"string\",\"Comment\": \"0: not original title; 1: original title\"}]},{\"database_name\": \"text2sql\",\"table_name\": \"title_rating\",\"table_description\": \"This dataset contains ratings details\"\n",
      "[{\"database_name\": \"text2sql\",\"table_name\": \"title\",\"table_description\": \"This dataset contains title details.\",\"relationships\": {\"primary_key\": [{ \"column_name\": \"titleId\", \"constraint\": \"not null\"},{ \"column_name\": \"ordering\", \"constraint\": \"not null\"}],\"foreign_keys\": [{ \"database_name\": \"text2sql\", \"table_name\": \"title_ratings\", \"join_on_column\": \"tconst\"}]},\"columns\": [{\"Name\": \"titleId\",\"Type\": \"string\",\"Comment\": \"This is the unique identifier of the title\"},{\"Name\": \"ordering\",\"Type\": \"integer\",\"Comment\": \"This is the uniquely identify rows for a given titleId\"},{\"Name\": \"title\",\"Type\": \"string\",\"Comment\": \"The localized title\"},{\"Name\": \"region\",\"Type\": \"string\",\"Comment\n",
      "Comment\": \"0: not original title; 1: original title\"}]},{\"database_name\": \"text2sql\",\"table_name\": \"title_rating\",\"table_description\": \"This dataset contains ratings details\",\"relationships\": {\"primary_key\": [{ \"column_name\": \"tconst\", \"constraint\": \"not null\"}]},\"columns\": [{\"Name\": \"tconst\",\"Type\": \"string\",\"Comment\": \"This is the unique identifier of the title\"},{\"Name\": \"averagerating\",\"Type\": \"integer\",\"Comment\": \"Weighted average of all the individual user ratings\"},{\"Name\": \"numVotes\",\"Type\": \"string\",\"Comment\": \"Number of votes the title has received\"}]}  ]how many titles are from the US regionn\n",
      "Assistant:\n",
      " SELECT COUNT(*) AS us_title_count FROM text2sql.title t WHERE t.region = 'US';\n",
      "Inside syntax_checker  SELECT COUNT(*) AS us_title_count FROM text2sql.title t WHERE t.region = 'US';\n",
      "Executing: Explain   SELECT COUNT(*) AS us_title_count FROM text2sql.title t WHERE t.region = 'US';\n",
      " I am checking the syntax here\n",
      "execution_id: b18db621-52cc-4f50-b52e-9e4af2de1268\n"
     ]
    },
    {
     "name": "stderr",
     "output_type": "stream",
     "text": [
      "syntax checked for query passed in attempt number :1\n"
     ]
    },
    {
     "name": "stdout",
     "output_type": "stream",
     "text": [
      "Status : {'State': 'SUCCEEDED', 'SubmissionDateTime': datetime.datetime(2024, 7, 30, 13, 58, 55, 758000, tzinfo=tzlocal()), 'CompletionDateTime': datetime.datetime(2024, 7, 30, 13, 58, 56, 247000, tzinfo=tzlocal())}\n"
     ]
    }
   ],
   "source": [
    "querygenerated=userinput(user_query)\n"
   ]
  },
  {
   "cell_type": "markdown",
   "id": "642ee907-5f0e-4b3d-93f7-3f8b4e048555",
   "metadata": {
    "pycharm": {
     "name": "#%% md\n"
    },
    "tags": []
   },
   "source": [
    "## Step 7: Sql Query and Query Execution output"
   ]
  },
  {
   "cell_type": "code",
   "execution_count": 26,
   "id": "864a622a-b0bb-4376-916b-c6d9f0949a47",
   "metadata": {
    "pycharm": {
     "name": "#%%\n"
    }
   },
   "outputs": [
    {
     "name": "stdout",
     "output_type": "stream",
     "text": [
      "(' SELECT COUNT(*) AS us_title_count FROM text2sql.title t WHERE t.region = '\n",
      " \"'US';\")\n"
     ]
    }
   ],
   "source": [
    "import pprint\n",
    "my_printer = pprint.PrettyPrinter()\n",
    "my_printer.pprint(querygenerated)"
   ]
  },
  {
   "cell_type": "code",
   "execution_count": 27,
   "id": "4bf3c786-171e-426c-b501-703ae39531c4",
   "metadata": {
    "pycharm": {
     "name": "#%%\n"
    }
   },
   "outputs": [
    {
     "name": "stdout",
     "output_type": "stream",
     "text": [
      "Executing:  SELECT COUNT(*) AS us_title_count FROM text2sql.title t WHERE t.region = 'US';\n"
     ]
    },
    {
     "name": "stderr",
     "output_type": "stream",
     "text": [
      "checking for file :athena_output/ab7b9696-0198-44ca-a625-90567bc0f958.csv\n"
     ]
    },
    {
     "name": "stdout",
     "output_type": "stream",
     "text": [
      "Calling download fine with params ./tmp/athena_output/ab7b9696-0198-44ca-a625-90567bc0f958.csv, {'OutputLocation': 's3://vishal-bucket103/athena_output'}\n"
     ]
    }
   ],
   "source": [
    "QueryOutput=rqstath.execute_query(querygenerated)"
   ]
  },
  {
   "cell_type": "code",
   "execution_count": 28,
   "id": "3a1af6ad-036b-4eeb-b640-8642a75da17b",
   "metadata": {
    "pycharm": {
     "name": "#%%\n"
    }
   },
   "outputs": [
    {
     "name": "stdout",
     "output_type": "stream",
     "text": [
      "   us_title_count\n",
      "0         1534894\n"
     ]
    }
   ],
   "source": [
    "print(QueryOutput)"
   ]
  },
  {
   "cell_type": "markdown",
   "id": "98397d4d-9b97-4c72-8763-f2247e88cd01",
   "metadata": {
    "pycharm": {
     "name": "#%% md\n"
    },
    "tags": []
   },
   "source": [
    "\n",
    "## Cleanup\n",
    "\n",
    "To avoid incurring future charges, delete the resources.\n"
   ]
  },
  {
   "cell_type": "markdown",
   "id": "47fa1ade-7993-4348-a0f6-c511f1a797e7",
   "metadata": {
    "pycharm": {
     "name": "#%% md\n"
    }
   },
   "source": [
    "## Conclusion\n",
    "In this notebook we were able to see how to use bedrock to deploy LLM Model to generate embeddings,then ingest those embeddings into OpenSearch and finally do a similarity search for user input to the documents (embeddings) stored in OpenSearch. Please read our [AWS Blog Post](https://aws.amazon.com/blogs/machine-learning/build-a-robust-text-to-sql-solution-generating-complex-queries-self-correcting-and-querying-diverse-data-sources/) on this topic to learn more about the solution.\n"
   ]
  }
 ],
 "metadata": {
  "availableInstances": [
   {
    "_defaultOrder": 0,
    "_isFastLaunch": true,
    "category": "General purpose",
    "gpuNum": 0,
    "hideHardwareSpecs": false,
    "memoryGiB": 4,
    "name": "ml.t3.medium",
    "vcpuNum": 2
   },
   {
    "_defaultOrder": 1,
    "_isFastLaunch": false,
    "category": "General purpose",
    "gpuNum": 0,
    "hideHardwareSpecs": false,
    "memoryGiB": 8,
    "name": "ml.t3.large",
    "vcpuNum": 2
   },
   {
    "_defaultOrder": 2,
    "_isFastLaunch": false,
    "category": "General purpose",
    "gpuNum": 0,
    "hideHardwareSpecs": false,
    "memoryGiB": 16,
    "name": "ml.t3.xlarge",
    "vcpuNum": 4
   },
   {
    "_defaultOrder": 3,
    "_isFastLaunch": false,
    "category": "General purpose",
    "gpuNum": 0,
    "hideHardwareSpecs": false,
    "memoryGiB": 32,
    "name": "ml.t3.2xlarge",
    "vcpuNum": 8
   },
   {
    "_defaultOrder": 4,
    "_isFastLaunch": true,
    "category": "General purpose",
    "gpuNum": 0,
    "hideHardwareSpecs": false,
    "memoryGiB": 8,
    "name": "ml.m5.large",
    "vcpuNum": 2
   },
   {
    "_defaultOrder": 5,
    "_isFastLaunch": false,
    "category": "General purpose",
    "gpuNum": 0,
    "hideHardwareSpecs": false,
    "memoryGiB": 16,
    "name": "ml.m5.xlarge",
    "vcpuNum": 4
   },
   {
    "_defaultOrder": 6,
    "_isFastLaunch": false,
    "category": "General purpose",
    "gpuNum": 0,
    "hideHardwareSpecs": false,
    "memoryGiB": 32,
    "name": "ml.m5.2xlarge",
    "vcpuNum": 8
   },
   {
    "_defaultOrder": 7,
    "_isFastLaunch": false,
    "category": "General purpose",
    "gpuNum": 0,
    "hideHardwareSpecs": false,
    "memoryGiB": 64,
    "name": "ml.m5.4xlarge",
    "vcpuNum": 16
   },
   {
    "_defaultOrder": 8,
    "_isFastLaunch": false,
    "category": "General purpose",
    "gpuNum": 0,
    "hideHardwareSpecs": false,
    "memoryGiB": 128,
    "name": "ml.m5.8xlarge",
    "vcpuNum": 32
   },
   {
    "_defaultOrder": 9,
    "_isFastLaunch": false,
    "category": "General purpose",
    "gpuNum": 0,
    "hideHardwareSpecs": false,
    "memoryGiB": 192,
    "name": "ml.m5.12xlarge",
    "vcpuNum": 48
   },
   {
    "_defaultOrder": 10,
    "_isFastLaunch": false,
    "category": "General purpose",
    "gpuNum": 0,
    "hideHardwareSpecs": false,
    "memoryGiB": 256,
    "name": "ml.m5.16xlarge",
    "vcpuNum": 64
   },
   {
    "_defaultOrder": 11,
    "_isFastLaunch": false,
    "category": "General purpose",
    "gpuNum": 0,
    "hideHardwareSpecs": false,
    "memoryGiB": 384,
    "name": "ml.m5.24xlarge",
    "vcpuNum": 96
   },
   {
    "_defaultOrder": 12,
    "_isFastLaunch": false,
    "category": "General purpose",
    "gpuNum": 0,
    "hideHardwareSpecs": false,
    "memoryGiB": 8,
    "name": "ml.m5d.large",
    "vcpuNum": 2
   },
   {
    "_defaultOrder": 13,
    "_isFastLaunch": false,
    "category": "General purpose",
    "gpuNum": 0,
    "hideHardwareSpecs": false,
    "memoryGiB": 16,
    "name": "ml.m5d.xlarge",
    "vcpuNum": 4
   },
   {
    "_defaultOrder": 14,
    "_isFastLaunch": false,
    "category": "General purpose",
    "gpuNum": 0,
    "hideHardwareSpecs": false,
    "memoryGiB": 32,
    "name": "ml.m5d.2xlarge",
    "vcpuNum": 8
   },
   {
    "_defaultOrder": 15,
    "_isFastLaunch": false,
    "category": "General purpose",
    "gpuNum": 0,
    "hideHardwareSpecs": false,
    "memoryGiB": 64,
    "name": "ml.m5d.4xlarge",
    "vcpuNum": 16
   },
   {
    "_defaultOrder": 16,
    "_isFastLaunch": false,
    "category": "General purpose",
    "gpuNum": 0,
    "hideHardwareSpecs": false,
    "memoryGiB": 128,
    "name": "ml.m5d.8xlarge",
    "vcpuNum": 32
   },
   {
    "_defaultOrder": 17,
    "_isFastLaunch": false,
    "category": "General purpose",
    "gpuNum": 0,
    "hideHardwareSpecs": false,
    "memoryGiB": 192,
    "name": "ml.m5d.12xlarge",
    "vcpuNum": 48
   },
   {
    "_defaultOrder": 18,
    "_isFastLaunch": false,
    "category": "General purpose",
    "gpuNum": 0,
    "hideHardwareSpecs": false,
    "memoryGiB": 256,
    "name": "ml.m5d.16xlarge",
    "vcpuNum": 64
   },
   {
    "_defaultOrder": 19,
    "_isFastLaunch": false,
    "category": "General purpose",
    "gpuNum": 0,
    "hideHardwareSpecs": false,
    "memoryGiB": 384,
    "name": "ml.m5d.24xlarge",
    "vcpuNum": 96
   },
   {
    "_defaultOrder": 20,
    "_isFastLaunch": false,
    "category": "General purpose",
    "gpuNum": 0,
    "hideHardwareSpecs": true,
    "memoryGiB": 0,
    "name": "ml.geospatial.interactive",
    "supportedImageNames": [
     "sagemaker-geospatial-v1-0"
    ],
    "vcpuNum": 0
   },
   {
    "_defaultOrder": 21,
    "_isFastLaunch": true,
    "category": "Compute optimized",
    "gpuNum": 0,
    "hideHardwareSpecs": false,
    "memoryGiB": 4,
    "name": "ml.c5.large",
    "vcpuNum": 2
   },
   {
    "_defaultOrder": 22,
    "_isFastLaunch": false,
    "category": "Compute optimized",
    "gpuNum": 0,
    "hideHardwareSpecs": false,
    "memoryGiB": 8,
    "name": "ml.c5.xlarge",
    "vcpuNum": 4
   },
   {
    "_defaultOrder": 23,
    "_isFastLaunch": false,
    "category": "Compute optimized",
    "gpuNum": 0,
    "hideHardwareSpecs": false,
    "memoryGiB": 16,
    "name": "ml.c5.2xlarge",
    "vcpuNum": 8
   },
   {
    "_defaultOrder": 24,
    "_isFastLaunch": false,
    "category": "Compute optimized",
    "gpuNum": 0,
    "hideHardwareSpecs": false,
    "memoryGiB": 32,
    "name": "ml.c5.4xlarge",
    "vcpuNum": 16
   },
   {
    "_defaultOrder": 25,
    "_isFastLaunch": false,
    "category": "Compute optimized",
    "gpuNum": 0,
    "hideHardwareSpecs": false,
    "memoryGiB": 72,
    "name": "ml.c5.9xlarge",
    "vcpuNum": 36
   },
   {
    "_defaultOrder": 26,
    "_isFastLaunch": false,
    "category": "Compute optimized",
    "gpuNum": 0,
    "hideHardwareSpecs": false,
    "memoryGiB": 96,
    "name": "ml.c5.12xlarge",
    "vcpuNum": 48
   },
   {
    "_defaultOrder": 27,
    "_isFastLaunch": false,
    "category": "Compute optimized",
    "gpuNum": 0,
    "hideHardwareSpecs": false,
    "memoryGiB": 144,
    "name": "ml.c5.18xlarge",
    "vcpuNum": 72
   },
   {
    "_defaultOrder": 28,
    "_isFastLaunch": false,
    "category": "Compute optimized",
    "gpuNum": 0,
    "hideHardwareSpecs": false,
    "memoryGiB": 192,
    "name": "ml.c5.24xlarge",
    "vcpuNum": 96
   },
   {
    "_defaultOrder": 29,
    "_isFastLaunch": true,
    "category": "Accelerated computing",
    "gpuNum": 1,
    "hideHardwareSpecs": false,
    "memoryGiB": 16,
    "name": "ml.g4dn.xlarge",
    "vcpuNum": 4
   },
   {
    "_defaultOrder": 30,
    "_isFastLaunch": false,
    "category": "Accelerated computing",
    "gpuNum": 1,
    "hideHardwareSpecs": false,
    "memoryGiB": 32,
    "name": "ml.g4dn.2xlarge",
    "vcpuNum": 8
   },
   {
    "_defaultOrder": 31,
    "_isFastLaunch": false,
    "category": "Accelerated computing",
    "gpuNum": 1,
    "hideHardwareSpecs": false,
    "memoryGiB": 64,
    "name": "ml.g4dn.4xlarge",
    "vcpuNum": 16
   },
   {
    "_defaultOrder": 32,
    "_isFastLaunch": false,
    "category": "Accelerated computing",
    "gpuNum": 1,
    "hideHardwareSpecs": false,
    "memoryGiB": 128,
    "name": "ml.g4dn.8xlarge",
    "vcpuNum": 32
   },
   {
    "_defaultOrder": 33,
    "_isFastLaunch": false,
    "category": "Accelerated computing",
    "gpuNum": 4,
    "hideHardwareSpecs": false,
    "memoryGiB": 192,
    "name": "ml.g4dn.12xlarge",
    "vcpuNum": 48
   },
   {
    "_defaultOrder": 34,
    "_isFastLaunch": false,
    "category": "Accelerated computing",
    "gpuNum": 1,
    "hideHardwareSpecs": false,
    "memoryGiB": 256,
    "name": "ml.g4dn.16xlarge",
    "vcpuNum": 64
   },
   {
    "_defaultOrder": 35,
    "_isFastLaunch": false,
    "category": "Accelerated computing",
    "gpuNum": 1,
    "hideHardwareSpecs": false,
    "memoryGiB": 61,
    "name": "ml.p3.2xlarge",
    "vcpuNum": 8
   },
   {
    "_defaultOrder": 36,
    "_isFastLaunch": false,
    "category": "Accelerated computing",
    "gpuNum": 4,
    "hideHardwareSpecs": false,
    "memoryGiB": 244,
    "name": "ml.p3.8xlarge",
    "vcpuNum": 32
   },
   {
    "_defaultOrder": 37,
    "_isFastLaunch": false,
    "category": "Accelerated computing",
    "gpuNum": 8,
    "hideHardwareSpecs": false,
    "memoryGiB": 488,
    "name": "ml.p3.16xlarge",
    "vcpuNum": 64
   },
   {
    "_defaultOrder": 38,
    "_isFastLaunch": false,
    "category": "Accelerated computing",
    "gpuNum": 8,
    "hideHardwareSpecs": false,
    "memoryGiB": 768,
    "name": "ml.p3dn.24xlarge",
    "vcpuNum": 96
   },
   {
    "_defaultOrder": 39,
    "_isFastLaunch": false,
    "category": "Memory Optimized",
    "gpuNum": 0,
    "hideHardwareSpecs": false,
    "memoryGiB": 16,
    "name": "ml.r5.large",
    "vcpuNum": 2
   },
   {
    "_defaultOrder": 40,
    "_isFastLaunch": false,
    "category": "Memory Optimized",
    "gpuNum": 0,
    "hideHardwareSpecs": false,
    "memoryGiB": 32,
    "name": "ml.r5.xlarge",
    "vcpuNum": 4
   },
   {
    "_defaultOrder": 41,
    "_isFastLaunch": false,
    "category": "Memory Optimized",
    "gpuNum": 0,
    "hideHardwareSpecs": false,
    "memoryGiB": 64,
    "name": "ml.r5.2xlarge",
    "vcpuNum": 8
   },
   {
    "_defaultOrder": 42,
    "_isFastLaunch": false,
    "category": "Memory Optimized",
    "gpuNum": 0,
    "hideHardwareSpecs": false,
    "memoryGiB": 128,
    "name": "ml.r5.4xlarge",
    "vcpuNum": 16
   },
   {
    "_defaultOrder": 43,
    "_isFastLaunch": false,
    "category": "Memory Optimized",
    "gpuNum": 0,
    "hideHardwareSpecs": false,
    "memoryGiB": 256,
    "name": "ml.r5.8xlarge",
    "vcpuNum": 32
   },
   {
    "_defaultOrder": 44,
    "_isFastLaunch": false,
    "category": "Memory Optimized",
    "gpuNum": 0,
    "hideHardwareSpecs": false,
    "memoryGiB": 384,
    "name": "ml.r5.12xlarge",
    "vcpuNum": 48
   },
   {
    "_defaultOrder": 45,
    "_isFastLaunch": false,
    "category": "Memory Optimized",
    "gpuNum": 0,
    "hideHardwareSpecs": false,
    "memoryGiB": 512,
    "name": "ml.r5.16xlarge",
    "vcpuNum": 64
   },
   {
    "_defaultOrder": 46,
    "_isFastLaunch": false,
    "category": "Memory Optimized",
    "gpuNum": 0,
    "hideHardwareSpecs": false,
    "memoryGiB": 768,
    "name": "ml.r5.24xlarge",
    "vcpuNum": 96
   },
   {
    "_defaultOrder": 47,
    "_isFastLaunch": false,
    "category": "Accelerated computing",
    "gpuNum": 1,
    "hideHardwareSpecs": false,
    "memoryGiB": 16,
    "name": "ml.g5.xlarge",
    "vcpuNum": 4
   },
   {
    "_defaultOrder": 48,
    "_isFastLaunch": false,
    "category": "Accelerated computing",
    "gpuNum": 1,
    "hideHardwareSpecs": false,
    "memoryGiB": 32,
    "name": "ml.g5.2xlarge",
    "vcpuNum": 8
   },
   {
    "_defaultOrder": 49,
    "_isFastLaunch": false,
    "category": "Accelerated computing",
    "gpuNum": 1,
    "hideHardwareSpecs": false,
    "memoryGiB": 64,
    "name": "ml.g5.4xlarge",
    "vcpuNum": 16
   },
   {
    "_defaultOrder": 50,
    "_isFastLaunch": false,
    "category": "Accelerated computing",
    "gpuNum": 1,
    "hideHardwareSpecs": false,
    "memoryGiB": 128,
    "name": "ml.g5.8xlarge",
    "vcpuNum": 32
   },
   {
    "_defaultOrder": 51,
    "_isFastLaunch": false,
    "category": "Accelerated computing",
    "gpuNum": 1,
    "hideHardwareSpecs": false,
    "memoryGiB": 256,
    "name": "ml.g5.16xlarge",
    "vcpuNum": 64
   },
   {
    "_defaultOrder": 52,
    "_isFastLaunch": false,
    "category": "Accelerated computing",
    "gpuNum": 4,
    "hideHardwareSpecs": false,
    "memoryGiB": 192,
    "name": "ml.g5.12xlarge",
    "vcpuNum": 48
   },
   {
    "_defaultOrder": 53,
    "_isFastLaunch": false,
    "category": "Accelerated computing",
    "gpuNum": 4,
    "hideHardwareSpecs": false,
    "memoryGiB": 384,
    "name": "ml.g5.24xlarge",
    "vcpuNum": 96
   },
   {
    "_defaultOrder": 54,
    "_isFastLaunch": false,
    "category": "Accelerated computing",
    "gpuNum": 8,
    "hideHardwareSpecs": false,
    "memoryGiB": 768,
    "name": "ml.g5.48xlarge",
    "vcpuNum": 192
   },
   {
    "_defaultOrder": 55,
    "_isFastLaunch": false,
    "category": "Accelerated computing",
    "gpuNum": 8,
    "hideHardwareSpecs": false,
    "memoryGiB": 1152,
    "name": "ml.p4d.24xlarge",
    "vcpuNum": 96
   },
   {
    "_defaultOrder": 56,
    "_isFastLaunch": false,
    "category": "Accelerated computing",
    "gpuNum": 8,
    "hideHardwareSpecs": false,
    "memoryGiB": 1152,
    "name": "ml.p4de.24xlarge",
    "vcpuNum": 96
   },
   {
    "_defaultOrder": 57,
    "_isFastLaunch": false,
    "category": "Accelerated computing",
    "gpuNum": 0,
    "hideHardwareSpecs": false,
    "memoryGiB": 32,
    "name": "ml.trn1.2xlarge",
    "vcpuNum": 8
   },
   {
    "_defaultOrder": 58,
    "_isFastLaunch": false,
    "category": "Accelerated computing",
    "gpuNum": 0,
    "hideHardwareSpecs": false,
    "memoryGiB": 512,
    "name": "ml.trn1.32xlarge",
    "vcpuNum": 128
   },
   {
    "_defaultOrder": 59,
    "_isFastLaunch": false,
    "category": "Accelerated computing",
    "gpuNum": 0,
    "hideHardwareSpecs": false,
    "memoryGiB": 512,
    "name": "ml.trn1n.32xlarge",
    "vcpuNum": 128
   }
  ],
  "instance_type": "ml.t3.medium",
  "kernelspec": {
   "display_name": "Python 3",
   "language": "python",
   "name": "python3"
  },
  "language_info": {
   "codemirror_mode": {
    "name": "ipython",
    "version": 3
   },
   "file_extension": ".py",
   "mimetype": "text/x-python",
   "name": "python",
   "nbconvert_exporter": "python",
   "pygments_lexer": "ipython3",
   "version": "3.12.1"
  }
 },
 "nbformat": 4,
 "nbformat_minor": 5
}
