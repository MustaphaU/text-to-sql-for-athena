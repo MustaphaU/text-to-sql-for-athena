{
 "cells": [
  {
   "cell_type": "markdown",
   "id": "dbc4741b-a14c-40fd-9ac0-a3bd07633747",
   "metadata": {
    "pycharm": {
     "name": "#%% md\n"
    },
    "tags": []
   },
   "source": [
    "# Building  Text-to-SQL capability to Amazon Athena using Amazon Bedrock\n",
    "\n",
    "- **Use of amazon.titan-embed-text-v1 for creating embedding**\n",
    "- **Use of Amazon OpenSearch as a vector database**\n",
    "- **Use of anthropic.claude-v2:1 as base LLM Model**\n",
    "\n",
    "\n",
    "\n",
    "## Contents\n",
    "\n",
    "1. [Objective](#Objective)\n",
    "1. [Background](#Background-(Problem-Description-and-Approach))\n",
    "1. [Overall Workflow](#Overall-Workflow)\n",
    "1. [Conclusion](#Conclusion)"
   ]
  },
  {
   "cell_type": "markdown",
   "id": "f5453ed1-3da0-4c03-a376-e90e06c8a7eb",
   "metadata": {
    "pycharm": {
     "name": "#%% md\n"
    }
   },
   "source": [
    "\n",
    "## Objective\n",
    "\n",
    "This notebook shows is to provide the code snippets within an executable flow from [this AWS Blog post](https://aws.amazon.com/blogs/machine-learning/build-a-robust-text-to-sql-solution-generating-complex-queries-self-correcting-and-querying-diverse-data-sources/).\n",
    "\n",
    "## Background (Problem Description and Approach)\n",
    "\n",
    "- **Problem statement**: \n",
    "\n",
    "Text-to-SQL solutions aim to generate SQL queries from natural language to enable non-technical users to access and analyze data. However, existing solutions face challenges related to ambiguity in natural language, needing to recreate capabilities for different databases, and collecting comprehensive metadata. The proposed solution in the text aims to address these challenges by incorporating metadata from AWS Glue Data Catalog, evaluating and correcting generated SQL queries using Amazon Athena feedback with multi-pass prompting, and leveraging Athena's support for diverse data sources.\n",
    "\n",
    "- **Our approach**: \n",
    "\n",
    "[`RAG`] The [RAG approach](https://aws.amazon.com/what-is/retrieval-augmented-generation/) offers several advantages. First, it gives up-to-date, precise responses. Rather than relying only on fixed, outdated training data, RAG utilizes current external sources to formulate its answers. In this solution, we used RAG to increase the accuracy of table name from [AWS Glue Data Catalog](https://docs.aws.amazon.com/glue/latest/dg/catalog-and-crawler.html). \n",
    "\n",
    "[`Vector Store`] [Amazon OpenSearch](https://aws.amazon.com/opensearch-service/) offers three vector engines to choose from, each catering to different use cases.Facebook AI Similarity Search (Faiss) is a library for efficient similarity search and clustering of dense vectors. This code bases used [FAISS for similiarity search](https://aws.amazon.com/about-aws/whats-new/2023/10/amazon-opensearch-service-vector-query-filters-faiss/).\n",
    "\n",
    "[`Amazon Athena`] [Amazon Athena](https://aws.amazon.com/athena/) is a serverless, interactive analytics service built on open-source frameworks, supporting open-table and file formats. Athena provides a simplified, flexible way to analyze petabytes of data where it lives. In this solution, we used Amazon Athena as the SQL engine to \n",
    "\n",
    "[`Amazon Bedrock`] [Amazon Bedrock](https://aws.amazon.com/bedrock/) is a fully managed service that offers a choice of high-performing foundation models (FMs) from leading AI companies like AI21 Labs, Anthropic, Cohere, Meta, Stability AI, and Amazon via a single API, along with a broad set of capabilities you need to build generative AI applications with security, privacy, and responsible AI.\n",
    "\n",
    "We used Bedrock with multi-step / multi-pass component which allows the LLM to correct the generated SQL query for accuracy. Here, the generated SQL is sent for syntax errors. We use Athena error messages to enrich our prompt for the LLM for more accurate and effective corrections in the generated SQL.\n",
    "\n",
    "- *[RAG on AWS](https://aws.amazon.com/what-is/retrieval-augmented-generation/)*\n",
    "- *[The langchain OpenSearch documentation](https://python.langchain.com/en/latest/ecosystem/opensearch.html)*\n",
    "- *[Amazon OpenSearch service documentation](https://docs.aws.amazon.com/opensearch-service/index.html)*\n",
    "- *[Amazon OpenSearch supports efficient vector](https://aws.amazon.com/about-aws/whats-new/2023/10/amazon-opensearch-service-vector-query-filters-faiss/)*\n",
    "\n"
   ]
  },
  {
   "cell_type": "markdown",
   "id": "59e68cc7-f452-4c88-9b49-4c10b069ce0c",
   "metadata": {
    "pycharm": {
     "name": "#%% md\n"
    }
   },
   "source": [
    "---\n",
    "\n",
    "## Overall Workflow\n",
    "\n",
    "**Prerequisite**\n",
    "\n",
    "The following are prerequisites that needs to be accomplised before executing this notebook.\n",
    "This Notebook can be executed via a Sagemaker instance or via a VS Code editor\n",
    "- Create a role having access to bedrock, glue,athena, s3,lakeformation. \n",
    "- Assign the role to the Sagemaker instance or to the instance where VS Code editor is running\n",
    "- Glue Database and tables. Provided spark notebook to create.\n",
    "- An Amazon OpenSearch cluster for storing embeddings.Here Opensearch credenitals are in notebooks. However Opensearch cluster's access credentials (username and password) can be stored in AWS Secrets Mananger by following steps described [here](https://docs.aws.amazon.com/secretsmanager/latest/userguide/managing-secrets.html).\n",
    "\n",
    "**The  workflow for this notebook is as follows:**\n",
    "1. Create an S3 bucket with the name \"knowledgebase-<ACCOUNT_ID>\" \n",
    "    - create a folder \"input\" in that bucket\n",
    "2. Download data from source \n",
    "    - https://developer.imdb.com/non-commercial-datasets/#titleakastsvgz and upload to S3 bucket from step 1 and into the \"input\" folder\n",
    "    - https://developer.imdb.com/non-commercial-datasets/#titlebasicstsvgz and upload to S3 bucket from step 1 and into the \"input\" folder\n",
    "3. Glue Steps\n",
    "    - Create a glue database  \"imdb_stg\" \n",
    "    - Create a glue crawler \"text-2-sql-crawler\" with the datasource set to the S3 bucket created in step 1.   Run the crawler.\n",
    "    - 2 tables should be created in Glue  data catalo.g  Make sure you are able to  query through athena. \n",
    "4.  From the Bedrock console, Create a new knowledgebase \n",
    "1. Install the required Python packages \n",
    "1. Create embedding and vector store. Do a similarity search with embeddings stored in the OpenSearch index for an input query.\n",
    "1. Execute this notebook to generate sql.."
   ]
  },
  {
   "cell_type": "markdown",
   "id": "994fd3e5-416d-4e4a-bfaf-faad2b53dc0c",
   "metadata": {
    "pycharm": {
     "name": "#%% md\n"
    }
   },
   "source": [
    "## Step 1: Setup\n",
    "Install the required packages."
   ]
  },
  {
   "cell_type": "code",
   "execution_count": null,
   "id": "efc3af34-9c4b-4e95-9147-cf498a74a0c2",
   "metadata": {
    "pycharm": {
     "name": "#%%\n"
    },
    "tags": []
   },
   "outputs": [],
   "source": [
    "!pip3 install boto3\n",
    "!pip3 install jq\n",
    "\n",
    "!pip3 install langchain\n",
    "!pip3 install langchain-community langchain-core\n",
    "!pip3 install pandas\n",
    "!pip3 install opensearch-py\n",
    "!pip3 install langchain-aws\n",
    "!pip3 install requests-aws4auth\n",
    "!pip3 install botocore"
   ]
  },
  {
   "cell_type": "markdown",
   "id": "d87f072e-88b1-4afc-ba4a-daa49f05bcd8",
   "metadata": {
    "pycharm": {
     "name": "#%% md\n"
    }
   },
   "source": [
    "## Step 2: Import all modules. There are some modules in other folder."
   ]
  },
  {
   "cell_type": "code",
   "execution_count": 40,
   "id": "987d606c-5200-462b-8cce-ec377760361e",
   "metadata": {
    "pycharm": {
     "name": "#%%\n"
    },
    "tags": []
   },
   "outputs": [],
   "source": [
    "import boto3\n",
    "from botocore.config import Config\n",
    "from langchain_community.embeddings import BedrockEmbeddings\n",
    "from langchain_aws import BedrockLLM\n",
    "import traceback"
   ]
  },
  {
   "cell_type": "code",
   "execution_count": 41,
   "id": "ef96ac35-3597-4bd8-80ca-035c6c98050b",
   "metadata": {
    "pycharm": {
     "name": "#%%\n"
    },
    "tags": []
   },
   "outputs": [],
   "source": [
    "import logging \n",
    "import json\n",
    "import os,sys\n",
    "import re\n",
    "import time\n",
    "import pandas as pd\n",
    "import io"
   ]
  },
  {
   "cell_type": "code",
   "execution_count": 42,
   "id": "482a9055-6cc2-419c-839f-ca1326b04957",
   "metadata": {
    "pycharm": {
     "name": "#%%\n"
    }
   },
   "outputs": [],
   "source": [
    "from boto_client import Clientmodules\n",
    "from llm_basemodel import LanguageModel\n",
    "from athena_execution import AthenaQueryExecute\n",
    "from openSearchVCEmbedding import EmbeddingBedrockOpenSearch"
   ]
  },
  {
   "cell_type": "code",
   "execution_count": 43,
   "id": "f03e654e-024f-4837-82d1-7f277344c46f",
   "metadata": {
    "pycharm": {
     "name": "#%%\n"
    },
    "tags": []
   },
   "outputs": [],
   "source": [
    "logger = logging.getLogger(__name__)\n",
    "logger.setLevel(logging.DEBUG)\n",
    "logger.addHandler(logging.StreamHandler())"
   ]
  },
  {
   "cell_type": "markdown",
   "id": "e2a6d68a-cf48-4b7f-94c5-418f2cc8f44a",
   "metadata": {
    "pycharm": {
     "name": "#%% md\n"
    },
    "tags": []
   },
   "source": [
    "## Step 3: Checking access to Bedrock"
   ]
  },
  {
   "cell_type": "code",
   "execution_count": 44,
   "id": "436fb4f1-cd34-4146-bc96-da5e3608d720",
   "metadata": {
    "pycharm": {
     "name": "#%%\n"
    },
    "tags": []
   },
   "outputs": [
    {
     "name": "stdout",
     "output_type": "stream",
     "text": [
      "{'modelArn': 'arn:aws:bedrock:us-east-1::foundation-model/amazon.titan-tg1-large', 'modelId': 'amazon.titan-tg1-large', 'modelName': 'Titan Text Large', 'providerName': 'Amazon', 'inputModalities': ['TEXT'], 'outputModalities': ['TEXT'], 'responseStreamingSupported': True, 'customizationsSupported': [], 'inferenceTypesSupported': ['ON_DEMAND'], 'modelLifecycle': {'status': 'ACTIVE'}}\n"
     ]
    }
   ],
   "source": [
    "session = boto3.session.Session()\n",
    "bedrock_client = session.client('bedrock')\n",
    "print(bedrock_client.list_foundation_models()['modelSummaries'][0])"
   ]
  },
  {
   "cell_type": "markdown",
   "id": "4b2217e5-dc53-428f-b224-fb3ac9e8f952",
   "metadata": {
    "pycharm": {
     "name": "#%% md\n"
    }
   },
   "source": [
    "## Step 4: Invoking Athena and Bedrock"
   ]
  },
  {
   "cell_type": "code",
   "execution_count": 45,
   "id": "72e44bd9-8787-447a-b5e0-0961547bafef",
   "metadata": {
    "pycharm": {
     "name": "#%%\n"
    },
    "tags": []
   },
   "outputs": [
    {
     "name": "stderr",
     "output_type": "stream",
     "text": [
      "athena client created \n",
      "s3 client created !!\n"
     ]
    }
   ],
   "source": [
    "rqstath=AthenaQueryExecute()"
   ]
  },
  {
   "cell_type": "markdown",
   "id": "c46db72d",
   "metadata": {},
   "source": [
    "### Step 3.1 Update the variables"
   ]
  },
  {
   "cell_type": "code",
   "execution_count": 46,
   "id": "e6b0cedd-0fcb-4a3b-a7be-50bd25197230",
   "metadata": {
    "pycharm": {
     "name": "#%%\n"
    }
   },
   "outputs": [
    {
     "name": "stderr",
     "output_type": "stream",
     "text": [
      "bedrock runtime client created \n"
     ]
    },
    {
     "name": "stdout",
     "output_type": "stream",
     "text": [
      "<llm_basemodel.LanguageModel object at 0x000001AF77BAD370>\n",
      "bedrock_client: <botocore.client.BedrockRuntime object at 0x000001AF75BC0DD0>, language_model: <llm_basemodel.LanguageModel object at 0x000001AF77BAD370>, llm: \u001b[1mBedrock\u001b[0m\n",
      "Params: {}, embeddings: client=<botocore.client.BedrockRuntime object at 0x000001AF75BC0DD0> region_name=None credentials_profile_name=None model_id='amazon.titan-embed-text-v1' model_kwargs=None endpoint_url=None normalize=False, opensearch_domain_endpoint: https://wi3kkhxignse60pcjop5.us-east-1.aoss.amazonaws.com, http_auth: <requests_aws4auth.aws4auth.AWS4Auth object at 0x000001AF71BF7E30>, vector_name: bedrock-knowledge-base-default-vector, fieldname: id\n"
     ]
    }
   ],
   "source": [
    "\n",
    "index_name = 'bedrock-knowledge-base-default-index'  \n",
    "domain = 'https://wi3kkhxignse60pcjop5.us-east-1.aoss.amazonaws.com'\n",
    "vector_name = 'bedrock-knowledge-base-default-vector'\n",
    "fieldname = 'id'\n",
    "\n",
    "####def __init__(self, domain, vector_name, fieldname):\n",
    "ebropen2=EmbeddingBedrockOpenSearch(domain,  vector_name,  fieldname)\n",
    "if ebropen2 is None:\n",
    "    print(\"ebropen2 is null\")\n",
    "else:\n",
    "    attrs = vars(ebropen2)\n",
    "    print(', '.join(\"%s: %s\" % item for item in attrs.items()))\n",
    "    "
   ]
  },
  {
   "cell_type": "markdown",
   "id": "73833ad4-d3e0-46a5-acd0-2e112e23fcc9",
   "metadata": {
    "pycharm": {
     "name": "#%% md\n"
    },
    "tags": []
   },
   "source": [
    "## Step 5: Core logic\n",
    "1. getEmbeddding : Take the input user query and vector search to find the schema from vector db created.\n",
    "2. generate_sql: Taking the input prompt, generate sql . syntax_checker helps to check the sql syntax.\n"
   ]
  },
  {
   "cell_type": "code",
   "execution_count": 48,
   "id": "fdcd87a9-f028-43ab-94a4-8d9b5b5bd163",
   "metadata": {
    "pycharm": {
     "name": "#%%\n"
    },
    "tags": []
   },
   "outputs": [],
   "source": [
    "class RequestQueryBedrock:\n",
    "    def __init__(self):\n",
    "    \n",
    "        self.bedrock_client = Clientmodules.createBedrockRuntimeClient()\n",
    "        self.language_model = LanguageModel(self.bedrock_client)\n",
    "        self.llm = self.language_model.llm\n",
    "        \n",
    "    def getOpenSearchEmbedding(self,index_name,user_query):\n",
    "        vcindxdoc=ebropen2.getDocumentfromIndex(index_name=index_name)\n",
    "        documnet=ebropen2.getSimilaritySearch(user_query,vcindxdoc)\n",
    "        #return ebropen2.format_metadata(documnet)\n",
    "        return ebropen2.get_data(documnet)\n",
    "        \n",
    "    def generate_sql(self,prompt, max_attempt=4) ->str:\n",
    "            \"\"\"\n",
    "            Generate and Validate SQL query.\n",
    "\n",
    "            Args:\n",
    "            - prompt (str): Prompt is user input and metadata from Rag to generating SQL.\n",
    "            - max_attempt (int): Maximum number of attempts correct the syntax SQL.\n",
    "\n",
    "            Returns:\n",
    "            - string: Sql query is returned .\n",
    "            \"\"\"\n",
    "            attempt = 0\n",
    "            error_messages = []\n",
    "            prompts = [prompt]\n",
    "\n",
    "            while attempt < max_attempt:\n",
    "                logger.info(f'Sql Generation attempt Count: {attempt+1}')\n",
    "                try:\n",
    "                    logger.info(f'we are in Try block to generate the sql and count is :{attempt+1}')\n",
    "                    generated_sql = self.llm.predict(prompt)\n",
    "                    query_str = generated_sql.split(\"```\")[1]\n",
    "                    query_str = \" \".join(query_str.split(\"\\n\")).strip()                    \n",
    "                    sql_query = query_str[3:] if query_str.startswith(\"sql\") else query_str\n",
    "                    print(sql_query)\n",
    "                    # return sql_query\n",
    "                    syntaxcheckmsg=rqstath.syntax_checker(sql_query)\n",
    "                    if syntaxcheckmsg=='Passed':\n",
    "                        logger.info(f'syntax checked for query passed in attempt number :{attempt+1}')\n",
    "                        return sql_query\n",
    "                    else:\n",
    "                        prompt = f\"\"\"{prompt}\n",
    "                        This is syntax error: {syntaxcheckmsg}. \n",
    "                        To correct this, please generate an alternative SQL query which will correct the syntax error.\n",
    "                        The updated query should take care of all the syntax issues encountered.\n",
    "                        Follow the instructions mentioned above to remediate the error. \n",
    "                        Update the below SQL query to resolve the issue:\n",
    "                        {sqlgenerated}\n",
    "                        Make sure the updated SQL query aligns with the requirements provided in the initial question.\"\"\"\n",
    "                        prompts.append(prompt)\n",
    "                        attempt += 1\n",
    "                except Exception as e:\n",
    "                    logger.error('FAILED')\n",
    "                    msg = str(e)\n",
    "                    error_messages.append(msg)\n",
    "                    attempt += 1\n",
    "            return sql_query"
   ]
  },
  {
   "cell_type": "code",
   "execution_count": 49,
   "id": "13da2f51-6032-4564-8943-3c36e55b025f",
   "metadata": {
    "pycharm": {
     "name": "#%%\n"
    },
    "tags": []
   },
   "outputs": [
    {
     "name": "stderr",
     "output_type": "stream",
     "text": [
      "bedrock runtime client created \n"
     ]
    }
   ],
   "source": [
    "rqst=RequestQueryBedrock()"
   ]
  },
  {
   "cell_type": "code",
   "execution_count": 50,
   "id": "db6b4e5f-b52e-4209-aab7-403dabc61239",
   "metadata": {
    "pycharm": {
     "name": "#%%\n"
    },
    "tags": []
   },
   "outputs": [],
   "source": [
    "def userinput(user_query):\n",
    "    logger.info(f'Searching metadata from vector store')\n",
    "    # vector_search_match=rqst.getEmbeddding(user_query)\n",
    "    vector_search_match=rqst.getOpenSearchEmbedding(index_name,user_query)\n",
    "    print(vector_search_match)\n",
    "    details=\"It is important that the SQL query complies with Athena syntax. During join if column name are same please use alias ex llm.customer_id in select statement. It is also important to respect the type of columns: if a column is string, the value should be enclosed in quotes. If you are writing CTEs then include all the required columns. While concatenating a non string column, make sure cast the column to string. For date columns comparing to string , please cast the string input.\"\n",
    "    final_question = \"\\n\\nHuman:\"+details + vector_search_match + user_query+ \"n\\nAssistant:\"\n",
    "    answer = rqst.generate_sql(final_question)\n",
    "    return answer"
   ]
  },
  {
   "cell_type": "markdown",
   "id": "68ebe772-af08-4df5-b950-3d6aa35dd1cb",
   "metadata": {
    "pycharm": {
     "name": "#%% md\n"
    }
   },
   "source": [
    "## Step 6: User input in Natural Language"
   ]
  },
  {
   "cell_type": "code",
   "execution_count": 51,
   "id": "21d5b62a-4446-43d2-a4bf-6d51061160a9",
   "metadata": {
    "pycharm": {
     "name": "#%%\n"
    },
    "tags": []
   },
   "outputs": [],
   "source": [
    "#user_query='how many titles exist '\n",
    "#user_query = 'show me top 10 title by user rating'\n",
    "user_query = 'show me top 10 titles in US region'\n",
    "#user_query = 'which year was a movie/title  made'"
   ]
  },
  {
   "cell_type": "code",
   "execution_count": 52,
   "id": "ec2cf58a-1cff-4530-8fa8-d89e003feac2",
   "metadata": {
    "pycharm": {
     "name": "#%%\n"
    }
   },
   "outputs": [
    {
     "name": "stderr",
     "output_type": "stream",
     "text": [
      "Searching metadata from vector store\n",
      "Searching metadata from vector store\n",
      "Searching metadata from vector store\n",
      "Searching metadata from vector store\n",
      "Searching metadata from vector store\n",
      "Sql Generation attempt Count: 1\n",
      "Sql Generation attempt Count: 1\n",
      "Sql Generation attempt Count: 1\n",
      "Sql Generation attempt Count: 1\n",
      "Sql Generation attempt Count: 1\n",
      "we are in Try block to generate the sql and count is :1\n",
      "we are in Try block to generate the sql and count is :1\n",
      "we are in Try block to generate the sql and count is :1\n",
      "we are in Try block to generate the sql and count is :1\n",
      "we are in Try block to generate the sql and count is :1\n"
     ]
    },
    {
     "name": "stdout",
     "output_type": "stream",
     "text": [
      "'{\\r                 \"Name\": \"title\",\\r                 \"Type\": \"string\",\\r                 \"Comment\": \"The localized title\"\\r             },\\r             {\\r                 \"Name\": \"region\",\\r                 \"Type\": \"string\",\\r                 \"Comment\": \"region for this version of the title\"\\r             },\\r             {\\r                 \"Name\": \"language\",\\r                 \"Type\": \"string\",\\r                 \"Comment\": \"the language of the title\"\\r             },\\r             {\\r                 \"Name\": \"types\",\\r                 \"Type\": \"string\",\\r                 \"Comment\": \"Enumerated set of attributes for this alternative title. One or more of the following: alternative, dvd, festival, tv, video, working, original, imdbDisplay. New values may be added in the future without warning\"\\r             },\\r             {\\r                 \"Name\": \"attributes\",\\r                 \"Type\": \"string\",\\r                 \"Comment\": \"Additional terms to describe this alternative title, not enumerated\"\\r             },\\r             {\\r                 \"Name\": \"isOriginalTitle\",\\r                 \"Type\": \"string\",\\r                 \"Comment\": \"0: not original title; 1: original title\"\\r             }\\r             ]\\r             },\\r             {\\r \"database_name\": \"text2sql\",\\r \"table_name\": \"title_rating\",\\r  \"table_description\": \"This dataset contains ratings details\"'\n",
      "'[\\r     {\\r \"database_name\": \"text2sql\",\\r \"table_name\": \"title\",\\r  \"table_description\": \"This dataset contains title details.\",\\r  \"relationships\": {\\r             \"primary_key\": [\\r                 {\\r                     \"column_name\": \"titleId\",\\r                     \"constraint\": \"not null\"\\r                 },\\r                 {\\r                     \"column_name\": \"ordering\",\\r                     \"constraint\": \"not null\"\\r                 }\\r                 ],\\r                 \"foreign_keys\": [\\r                 {\\r                     \"database_name\": \"text2sql\",\\r                     \"table_name\": \"title_ratings\",\\r                     \"join_on_column\": \"tconst\"\\r                 }\\r                 ]\\r                },\\r                \"columns\": [\\r             {\\r                 \"Name\": \"titleId\",\\r                 \"Type\": \"string\",\\r                 \"Comment\": \"This is the unique identifier of the title\"\\r             },\\r             {\\r                 \"Name\": \"ordering\",\\r                 \"Type\": \"integer\",\\r                 \"Comment\": \"This is the uniquely identify rows for a given titleId\"\\r             },\\r             {\\r                 \"Name\": \"title\",\\r                 \"Type\": \"string\",\\r                 \"Comment\": \"The localized title\"\\r             },\\r             {\\r                 \"Name\": \"region\",\\r                 \"Type\": \"string\",\\r                 \"Comment'\n",
      "'Comment\": \"0: not original title; 1: original title\"\\r             }\\r             ]\\r             },\\r             {\\r \"database_name\": \"text2sql\",\\r \"table_name\": \"title_rating\",\\r  \"table_description\": \"This dataset contains ratings details\",\\r  \"relationships\": {\\r             \"primary_key\": [\\r                 {\\r                     \"column_name\": \"tconst\",\\r                     \"constraint\": \"not null\"\\r                 }\\r                 ]\\r                },\\r                \"columns\": [\\r             {\\r                 \"Name\": \"tconst\",\\r                 \"Type\": \"string\",\\r                 \"Comment\": \"This is the unique identifier of the title\"\\r             },\\r             {\\r                 \"Name\": \"averagerating\",\\r                 \"Type\": \"integer\",\\r                 \"Comment\": \"Weighted average of all the individual user ratings\"\\r             },\\r             {\\r                 \"Name\": \"numVotes\",\\r                 \"Type\": \"string\",\\r                 \"Comment\": \"Number of votes the title has received\"\\r             }\\r             ]\\r         }  \\r     ]'\n",
      "{\"Name\": \"title\",\"Type\": \"string\",\"Comment\": \"The localized title\"},{\"Name\": \"region\",\"Type\": \"string\",\"Comment\": \"region for this version of the title\"},{\"Name\": \"language\",\"Type\": \"string\",\"Comment\": \"the language of the title\"},{\"Name\": \"types\",\"Type\": \"string\",\"Comment\": \"Enumerated set of attributes for this alternative title. One or more of the following: alternative, dvd, festival, tv, video, working, original, imdbDisplay. New values may be added in the future without warning\"},{\"Name\": \"attributes\",\"Type\": \"string\",\"Comment\": \"Additional terms to describe this alternative title, not enumerated\"},{\"Name\": \"isOriginalTitle\",\"Type\": \"string\",\"Comment\": \"0: not original title; 1: original title\"}]},{\"database_name\": \"text2sql\",\"table_name\": \"title_rating\",\"table_description\": \"This dataset contains ratings details\"\n",
      "[{\"database_name\": \"text2sql\",\"table_name\": \"title\",\"table_description\": \"This dataset contains title details.\",\"relationships\": {\"primary_key\": [{ \"column_name\": \"titleId\", \"constraint\": \"not null\"},{ \"column_name\": \"ordering\", \"constraint\": \"not null\"}],\"foreign_keys\": [{ \"database_name\": \"text2sql\", \"table_name\": \"title_ratings\", \"join_on_column\": \"tconst\"}]},\"columns\": [{\"Name\": \"titleId\",\"Type\": \"string\",\"Comment\": \"This is the unique identifier of the title\"},{\"Name\": \"ordering\",\"Type\": \"integer\",\"Comment\": \"This is the uniquely identify rows for a given titleId\"},{\"Name\": \"title\",\"Type\": \"string\",\"Comment\": \"The localized title\"},{\"Name\": \"region\",\"Type\": \"string\",\"Comment\n",
      "Comment\": \"0: not original title; 1: original title\"}]},{\"database_name\": \"text2sql\",\"table_name\": \"title_rating\",\"table_description\": \"This dataset contains ratings details\",\"relationships\": {\"primary_key\": [{ \"column_name\": \"tconst\", \"constraint\": \"not null\"}]},\"columns\": [{\"Name\": \"tconst\",\"Type\": \"string\",\"Comment\": \"This is the unique identifier of the title\"},{\"Name\": \"averagerating\",\"Type\": \"integer\",\"Comment\": \"Weighted average of all the individual user ratings\"},{\"Name\": \"numVotes\",\"Type\": \"string\",\"Comment\": \"Number of votes the title has received\"}]}  ]\n",
      " WITH cte AS (   SELECT title.titleId,      title.ordering,     title.title,     title.region,     title_rating.averagerating,     title_rating.numVotes,     ROW_NUMBER() OVER (PARTITION BY title.titleId ORDER BY title_rating.averagerating DESC) AS row_num   FROM text2sql.title AS title   INNER JOIN text2sql.title_rating AS title_rating     ON title.titleId = title_rating.tconst   WHERE title.region = 'US' ) SELECT cte.title, cte.averagerating, cte.numVotes  FROM cte WHERE cte.row_num <= 10;\n",
      "Inside yntax_checker  WITH cte AS (   SELECT title.titleId,      title.ordering,     title.title,     title.region,     title_rating.averagerating,     title_rating.numVotes,     ROW_NUMBER() OVER (PARTITION BY title.titleId ORDER BY title_rating.averagerating DESC) AS row_num   FROM text2sql.title AS title   INNER JOIN text2sql.title_rating AS title_rating     ON title.titleId = title_rating.tconst   WHERE title.region = 'US' ) SELECT cte.title, cte.averagerating, cte.numVotes  FROM cte WHERE cte.row_num <= 10;\n",
      "Executing: Explain   WITH cte AS (   SELECT title.titleId,      title.ordering,     title.title,     title.region,     title_rating.averagerating,     title_rating.numVotes,     ROW_NUMBER() OVER (PARTITION BY title.titleId ORDER BY title_rating.averagerating DESC) AS row_num   FROM text2sql.title AS title   INNER JOIN text2sql.title_rating AS title_rating     ON title.titleId = title_rating.tconst   WHERE title.region = 'US' ) SELECT cte.title, cte.averagerating, cte.numVotes  FROM cte WHERE cte.row_num <= 10;\n",
      " I am checking the syntax here\n",
      "execution_id: d4676490-807a-4489-857f-a75c9eb1bc28\n"
     ]
    },
    {
     "name": "stderr",
     "output_type": "stream",
     "text": [
      "syntax checked for query passed in attempt number :1\n",
      "syntax checked for query passed in attempt number :1\n",
      "syntax checked for query passed in attempt number :1\n",
      "syntax checked for query passed in attempt number :1\n",
      "syntax checked for query passed in attempt number :1\n"
     ]
    },
    {
     "name": "stdout",
     "output_type": "stream",
     "text": [
      "Status : {'State': 'SUCCEEDED', 'SubmissionDateTime': datetime.datetime(2024, 7, 8, 17, 32, 38, 264000, tzinfo=tzlocal()), 'CompletionDateTime': datetime.datetime(2024, 7, 8, 17, 32, 38, 859000, tzinfo=tzlocal())}\n"
     ]
    }
   ],
   "source": [
    "querygenerated=userinput(user_query)\n"
   ]
  },
  {
   "cell_type": "markdown",
   "id": "642ee907-5f0e-4b3d-93f7-3f8b4e048555",
   "metadata": {
    "pycharm": {
     "name": "#%% md\n"
    },
    "tags": []
   },
   "source": [
    "## Step 7: Sql Query and Query Execution output"
   ]
  },
  {
   "cell_type": "code",
   "execution_count": 54,
   "id": "864a622a-b0bb-4376-916b-c6d9f0949a47",
   "metadata": {
    "pycharm": {
     "name": "#%%\n"
    }
   },
   "outputs": [
    {
     "name": "stdout",
     "output_type": "stream",
     "text": [
      "(' WITH cte AS (   SELECT title.titleId,      title.ordering,     '\n",
      " 'title.title,     title.region,     title_rating.averagerating,     '\n",
      " 'title_rating.numVotes,     ROW_NUMBER() OVER (PARTITION BY title.titleId '\n",
      " 'ORDER BY title_rating.averagerating DESC) AS row_num   FROM text2sql.title '\n",
      " 'AS title   INNER JOIN text2sql.title_rating AS title_rating     ON '\n",
      " \"title.titleId = title_rating.tconst   WHERE title.region = 'US' ) SELECT \"\n",
      " 'cte.title, cte.averagerating, cte.numVotes  FROM cte WHERE cte.row_num <= '\n",
      " '10;')\n"
     ]
    }
   ],
   "source": [
    "import pprint\n",
    "my_printer = pprint.PrettyPrinter()\n",
    "my_printer.pprint(querygenerated)"
   ]
  },
  {
   "cell_type": "code",
   "execution_count": 55,
   "id": "4bf3c786-171e-426c-b501-703ae39531c4",
   "metadata": {
    "pycharm": {
     "name": "#%%\n"
    }
   },
   "outputs": [
    {
     "name": "stdout",
     "output_type": "stream",
     "text": [
      "Executing:  WITH cte AS (   SELECT title.titleId,      title.ordering,     title.title,     title.region,     title_rating.averagerating,     title_rating.numVotes,     ROW_NUMBER() OVER (PARTITION BY title.titleId ORDER BY title_rating.averagerating DESC) AS row_num   FROM text2sql.title AS title   INNER JOIN text2sql.title_rating AS title_rating     ON title.titleId = title_rating.tconst   WHERE title.region = 'US' ) SELECT cte.title, cte.averagerating, cte.numVotes  FROM cte WHERE cte.row_num <= 10;\n"
     ]
    },
    {
     "name": "stderr",
     "output_type": "stream",
     "text": [
      "checking for file :athena_output/2965a65b-900b-4587-9f92-fe2b36245307.csv\n"
     ]
    },
    {
     "name": "stdout",
     "output_type": "stream",
     "text": [
      "Calling download fine with params ./tmp/athena_output/2965a65b-900b-4587-9f92-fe2b36245307.csv, {'OutputLocation': 's3://vishal-bucket103/athena_output'}\n"
     ]
    }
   ],
   "source": [
    "QueryOutput=rqstath.execute_query(querygenerated)"
   ]
  },
  {
   "cell_type": "code",
   "execution_count": 56,
   "id": "3a1af6ad-036b-4eeb-b640-8642a75da17b",
   "metadata": {
    "pycharm": {
     "name": "#%%\n"
    }
   },
   "outputs": [
    {
     "name": "stdout",
     "output_type": "stream",
     "text": [
      "                                                    title  averagerating  \\\n",
      "0                                 The Sprinkler Sprinkled            7.1   \n",
      "1                                     The Waterer Watered            7.1   \n",
      "2                           Tables Turned on the Gardener            7.1   \n",
      "3                                     The Sprayer Sprayed            7.1   \n",
      "4                              Cordeliers' Square in Lyon            5.6   \n",
      "...                                                   ...            ...   \n",
      "596013   Halloween 4 & 5 Cast Panel at the H25 Convention            6.6   \n",
      "596014  Halloween 4 and 5 Cast Panel at the H25 Conven...            6.6   \n",
      "596015                             Welcome to the Dungeon            8.0   \n",
      "596016                              De la piel del Diablo            3.6   \n",
      "596017                                          Safeguard            3.6   \n",
      "\n",
      "        numVotes  \n",
      "0           5874  \n",
      "1           5874  \n",
      "2           5874  \n",
      "3           5874  \n",
      "4           1215  \n",
      "...          ...  \n",
      "596013         8  \n",
      "596014         8  \n",
      "596015        13  \n",
      "596016        19  \n",
      "596017       257  \n",
      "\n",
      "[596018 rows x 3 columns]\n"
     ]
    }
   ],
   "source": [
    "print(QueryOutput)"
   ]
  },
  {
   "cell_type": "markdown",
   "id": "98397d4d-9b97-4c72-8763-f2247e88cd01",
   "metadata": {
    "pycharm": {
     "name": "#%% md\n"
    },
    "tags": []
   },
   "source": [
    "\n",
    "## Cleanup\n",
    "\n",
    "To avoid incurring future charges, delete the resources.\n"
   ]
  },
  {
   "cell_type": "markdown",
   "id": "47fa1ade-7993-4348-a0f6-c511f1a797e7",
   "metadata": {
    "pycharm": {
     "name": "#%% md\n"
    }
   },
   "source": [
    "## Conclusion\n",
    "In this notebook we were able to see how to use bedrock to deploy LLM Model to generate embeddings,then ingest those embeddings into OpenSearch and finally do a similarity search for user input to the documents (embeddings) stored in OpenSearch. Please read our [AWS Blog Post](https://aws.amazon.com/blogs/machine-learning/build-a-robust-text-to-sql-solution-generating-complex-queries-self-correcting-and-querying-diverse-data-sources/) on this topic to learn more about the solution.\n"
   ]
  }
 ],
 "metadata": {
  "availableInstances": [
   {
    "_defaultOrder": 0,
    "_isFastLaunch": true,
    "category": "General purpose",
    "gpuNum": 0,
    "hideHardwareSpecs": false,
    "memoryGiB": 4,
    "name": "ml.t3.medium",
    "vcpuNum": 2
   },
   {
    "_defaultOrder": 1,
    "_isFastLaunch": false,
    "category": "General purpose",
    "gpuNum": 0,
    "hideHardwareSpecs": false,
    "memoryGiB": 8,
    "name": "ml.t3.large",
    "vcpuNum": 2
   },
   {
    "_defaultOrder": 2,
    "_isFastLaunch": false,
    "category": "General purpose",
    "gpuNum": 0,
    "hideHardwareSpecs": false,
    "memoryGiB": 16,
    "name": "ml.t3.xlarge",
    "vcpuNum": 4
   },
   {
    "_defaultOrder": 3,
    "_isFastLaunch": false,
    "category": "General purpose",
    "gpuNum": 0,
    "hideHardwareSpecs": false,
    "memoryGiB": 32,
    "name": "ml.t3.2xlarge",
    "vcpuNum": 8
   },
   {
    "_defaultOrder": 4,
    "_isFastLaunch": true,
    "category": "General purpose",
    "gpuNum": 0,
    "hideHardwareSpecs": false,
    "memoryGiB": 8,
    "name": "ml.m5.large",
    "vcpuNum": 2
   },
   {
    "_defaultOrder": 5,
    "_isFastLaunch": false,
    "category": "General purpose",
    "gpuNum": 0,
    "hideHardwareSpecs": false,
    "memoryGiB": 16,
    "name": "ml.m5.xlarge",
    "vcpuNum": 4
   },
   {
    "_defaultOrder": 6,
    "_isFastLaunch": false,
    "category": "General purpose",
    "gpuNum": 0,
    "hideHardwareSpecs": false,
    "memoryGiB": 32,
    "name": "ml.m5.2xlarge",
    "vcpuNum": 8
   },
   {
    "_defaultOrder": 7,
    "_isFastLaunch": false,
    "category": "General purpose",
    "gpuNum": 0,
    "hideHardwareSpecs": false,
    "memoryGiB": 64,
    "name": "ml.m5.4xlarge",
    "vcpuNum": 16
   },
   {
    "_defaultOrder": 8,
    "_isFastLaunch": false,
    "category": "General purpose",
    "gpuNum": 0,
    "hideHardwareSpecs": false,
    "memoryGiB": 128,
    "name": "ml.m5.8xlarge",
    "vcpuNum": 32
   },
   {
    "_defaultOrder": 9,
    "_isFastLaunch": false,
    "category": "General purpose",
    "gpuNum": 0,
    "hideHardwareSpecs": false,
    "memoryGiB": 192,
    "name": "ml.m5.12xlarge",
    "vcpuNum": 48
   },
   {
    "_defaultOrder": 10,
    "_isFastLaunch": false,
    "category": "General purpose",
    "gpuNum": 0,
    "hideHardwareSpecs": false,
    "memoryGiB": 256,
    "name": "ml.m5.16xlarge",
    "vcpuNum": 64
   },
   {
    "_defaultOrder": 11,
    "_isFastLaunch": false,
    "category": "General purpose",
    "gpuNum": 0,
    "hideHardwareSpecs": false,
    "memoryGiB": 384,
    "name": "ml.m5.24xlarge",
    "vcpuNum": 96
   },
   {
    "_defaultOrder": 12,
    "_isFastLaunch": false,
    "category": "General purpose",
    "gpuNum": 0,
    "hideHardwareSpecs": false,
    "memoryGiB": 8,
    "name": "ml.m5d.large",
    "vcpuNum": 2
   },
   {
    "_defaultOrder": 13,
    "_isFastLaunch": false,
    "category": "General purpose",
    "gpuNum": 0,
    "hideHardwareSpecs": false,
    "memoryGiB": 16,
    "name": "ml.m5d.xlarge",
    "vcpuNum": 4
   },
   {
    "_defaultOrder": 14,
    "_isFastLaunch": false,
    "category": "General purpose",
    "gpuNum": 0,
    "hideHardwareSpecs": false,
    "memoryGiB": 32,
    "name": "ml.m5d.2xlarge",
    "vcpuNum": 8
   },
   {
    "_defaultOrder": 15,
    "_isFastLaunch": false,
    "category": "General purpose",
    "gpuNum": 0,
    "hideHardwareSpecs": false,
    "memoryGiB": 64,
    "name": "ml.m5d.4xlarge",
    "vcpuNum": 16
   },
   {
    "_defaultOrder": 16,
    "_isFastLaunch": false,
    "category": "General purpose",
    "gpuNum": 0,
    "hideHardwareSpecs": false,
    "memoryGiB": 128,
    "name": "ml.m5d.8xlarge",
    "vcpuNum": 32
   },
   {
    "_defaultOrder": 17,
    "_isFastLaunch": false,
    "category": "General purpose",
    "gpuNum": 0,
    "hideHardwareSpecs": false,
    "memoryGiB": 192,
    "name": "ml.m5d.12xlarge",
    "vcpuNum": 48
   },
   {
    "_defaultOrder": 18,
    "_isFastLaunch": false,
    "category": "General purpose",
    "gpuNum": 0,
    "hideHardwareSpecs": false,
    "memoryGiB": 256,
    "name": "ml.m5d.16xlarge",
    "vcpuNum": 64
   },
   {
    "_defaultOrder": 19,
    "_isFastLaunch": false,
    "category": "General purpose",
    "gpuNum": 0,
    "hideHardwareSpecs": false,
    "memoryGiB": 384,
    "name": "ml.m5d.24xlarge",
    "vcpuNum": 96
   },
   {
    "_defaultOrder": 20,
    "_isFastLaunch": false,
    "category": "General purpose",
    "gpuNum": 0,
    "hideHardwareSpecs": true,
    "memoryGiB": 0,
    "name": "ml.geospatial.interactive",
    "supportedImageNames": [
     "sagemaker-geospatial-v1-0"
    ],
    "vcpuNum": 0
   },
   {
    "_defaultOrder": 21,
    "_isFastLaunch": true,
    "category": "Compute optimized",
    "gpuNum": 0,
    "hideHardwareSpecs": false,
    "memoryGiB": 4,
    "name": "ml.c5.large",
    "vcpuNum": 2
   },
   {
    "_defaultOrder": 22,
    "_isFastLaunch": false,
    "category": "Compute optimized",
    "gpuNum": 0,
    "hideHardwareSpecs": false,
    "memoryGiB": 8,
    "name": "ml.c5.xlarge",
    "vcpuNum": 4
   },
   {
    "_defaultOrder": 23,
    "_isFastLaunch": false,
    "category": "Compute optimized",
    "gpuNum": 0,
    "hideHardwareSpecs": false,
    "memoryGiB": 16,
    "name": "ml.c5.2xlarge",
    "vcpuNum": 8
   },
   {
    "_defaultOrder": 24,
    "_isFastLaunch": false,
    "category": "Compute optimized",
    "gpuNum": 0,
    "hideHardwareSpecs": false,
    "memoryGiB": 32,
    "name": "ml.c5.4xlarge",
    "vcpuNum": 16
   },
   {
    "_defaultOrder": 25,
    "_isFastLaunch": false,
    "category": "Compute optimized",
    "gpuNum": 0,
    "hideHardwareSpecs": false,
    "memoryGiB": 72,
    "name": "ml.c5.9xlarge",
    "vcpuNum": 36
   },
   {
    "_defaultOrder": 26,
    "_isFastLaunch": false,
    "category": "Compute optimized",
    "gpuNum": 0,
    "hideHardwareSpecs": false,
    "memoryGiB": 96,
    "name": "ml.c5.12xlarge",
    "vcpuNum": 48
   },
   {
    "_defaultOrder": 27,
    "_isFastLaunch": false,
    "category": "Compute optimized",
    "gpuNum": 0,
    "hideHardwareSpecs": false,
    "memoryGiB": 144,
    "name": "ml.c5.18xlarge",
    "vcpuNum": 72
   },
   {
    "_defaultOrder": 28,
    "_isFastLaunch": false,
    "category": "Compute optimized",
    "gpuNum": 0,
    "hideHardwareSpecs": false,
    "memoryGiB": 192,
    "name": "ml.c5.24xlarge",
    "vcpuNum": 96
   },
   {
    "_defaultOrder": 29,
    "_isFastLaunch": true,
    "category": "Accelerated computing",
    "gpuNum": 1,
    "hideHardwareSpecs": false,
    "memoryGiB": 16,
    "name": "ml.g4dn.xlarge",
    "vcpuNum": 4
   },
   {
    "_defaultOrder": 30,
    "_isFastLaunch": false,
    "category": "Accelerated computing",
    "gpuNum": 1,
    "hideHardwareSpecs": false,
    "memoryGiB": 32,
    "name": "ml.g4dn.2xlarge",
    "vcpuNum": 8
   },
   {
    "_defaultOrder": 31,
    "_isFastLaunch": false,
    "category": "Accelerated computing",
    "gpuNum": 1,
    "hideHardwareSpecs": false,
    "memoryGiB": 64,
    "name": "ml.g4dn.4xlarge",
    "vcpuNum": 16
   },
   {
    "_defaultOrder": 32,
    "_isFastLaunch": false,
    "category": "Accelerated computing",
    "gpuNum": 1,
    "hideHardwareSpecs": false,
    "memoryGiB": 128,
    "name": "ml.g4dn.8xlarge",
    "vcpuNum": 32
   },
   {
    "_defaultOrder": 33,
    "_isFastLaunch": false,
    "category": "Accelerated computing",
    "gpuNum": 4,
    "hideHardwareSpecs": false,
    "memoryGiB": 192,
    "name": "ml.g4dn.12xlarge",
    "vcpuNum": 48
   },
   {
    "_defaultOrder": 34,
    "_isFastLaunch": false,
    "category": "Accelerated computing",
    "gpuNum": 1,
    "hideHardwareSpecs": false,
    "memoryGiB": 256,
    "name": "ml.g4dn.16xlarge",
    "vcpuNum": 64
   },
   {
    "_defaultOrder": 35,
    "_isFastLaunch": false,
    "category": "Accelerated computing",
    "gpuNum": 1,
    "hideHardwareSpecs": false,
    "memoryGiB": 61,
    "name": "ml.p3.2xlarge",
    "vcpuNum": 8
   },
   {
    "_defaultOrder": 36,
    "_isFastLaunch": false,
    "category": "Accelerated computing",
    "gpuNum": 4,
    "hideHardwareSpecs": false,
    "memoryGiB": 244,
    "name": "ml.p3.8xlarge",
    "vcpuNum": 32
   },
   {
    "_defaultOrder": 37,
    "_isFastLaunch": false,
    "category": "Accelerated computing",
    "gpuNum": 8,
    "hideHardwareSpecs": false,
    "memoryGiB": 488,
    "name": "ml.p3.16xlarge",
    "vcpuNum": 64
   },
   {
    "_defaultOrder": 38,
    "_isFastLaunch": false,
    "category": "Accelerated computing",
    "gpuNum": 8,
    "hideHardwareSpecs": false,
    "memoryGiB": 768,
    "name": "ml.p3dn.24xlarge",
    "vcpuNum": 96
   },
   {
    "_defaultOrder": 39,
    "_isFastLaunch": false,
    "category": "Memory Optimized",
    "gpuNum": 0,
    "hideHardwareSpecs": false,
    "memoryGiB": 16,
    "name": "ml.r5.large",
    "vcpuNum": 2
   },
   {
    "_defaultOrder": 40,
    "_isFastLaunch": false,
    "category": "Memory Optimized",
    "gpuNum": 0,
    "hideHardwareSpecs": false,
    "memoryGiB": 32,
    "name": "ml.r5.xlarge",
    "vcpuNum": 4
   },
   {
    "_defaultOrder": 41,
    "_isFastLaunch": false,
    "category": "Memory Optimized",
    "gpuNum": 0,
    "hideHardwareSpecs": false,
    "memoryGiB": 64,
    "name": "ml.r5.2xlarge",
    "vcpuNum": 8
   },
   {
    "_defaultOrder": 42,
    "_isFastLaunch": false,
    "category": "Memory Optimized",
    "gpuNum": 0,
    "hideHardwareSpecs": false,
    "memoryGiB": 128,
    "name": "ml.r5.4xlarge",
    "vcpuNum": 16
   },
   {
    "_defaultOrder": 43,
    "_isFastLaunch": false,
    "category": "Memory Optimized",
    "gpuNum": 0,
    "hideHardwareSpecs": false,
    "memoryGiB": 256,
    "name": "ml.r5.8xlarge",
    "vcpuNum": 32
   },
   {
    "_defaultOrder": 44,
    "_isFastLaunch": false,
    "category": "Memory Optimized",
    "gpuNum": 0,
    "hideHardwareSpecs": false,
    "memoryGiB": 384,
    "name": "ml.r5.12xlarge",
    "vcpuNum": 48
   },
   {
    "_defaultOrder": 45,
    "_isFastLaunch": false,
    "category": "Memory Optimized",
    "gpuNum": 0,
    "hideHardwareSpecs": false,
    "memoryGiB": 512,
    "name": "ml.r5.16xlarge",
    "vcpuNum": 64
   },
   {
    "_defaultOrder": 46,
    "_isFastLaunch": false,
    "category": "Memory Optimized",
    "gpuNum": 0,
    "hideHardwareSpecs": false,
    "memoryGiB": 768,
    "name": "ml.r5.24xlarge",
    "vcpuNum": 96
   },
   {
    "_defaultOrder": 47,
    "_isFastLaunch": false,
    "category": "Accelerated computing",
    "gpuNum": 1,
    "hideHardwareSpecs": false,
    "memoryGiB": 16,
    "name": "ml.g5.xlarge",
    "vcpuNum": 4
   },
   {
    "_defaultOrder": 48,
    "_isFastLaunch": false,
    "category": "Accelerated computing",
    "gpuNum": 1,
    "hideHardwareSpecs": false,
    "memoryGiB": 32,
    "name": "ml.g5.2xlarge",
    "vcpuNum": 8
   },
   {
    "_defaultOrder": 49,
    "_isFastLaunch": false,
    "category": "Accelerated computing",
    "gpuNum": 1,
    "hideHardwareSpecs": false,
    "memoryGiB": 64,
    "name": "ml.g5.4xlarge",
    "vcpuNum": 16
   },
   {
    "_defaultOrder": 50,
    "_isFastLaunch": false,
    "category": "Accelerated computing",
    "gpuNum": 1,
    "hideHardwareSpecs": false,
    "memoryGiB": 128,
    "name": "ml.g5.8xlarge",
    "vcpuNum": 32
   },
   {
    "_defaultOrder": 51,
    "_isFastLaunch": false,
    "category": "Accelerated computing",
    "gpuNum": 1,
    "hideHardwareSpecs": false,
    "memoryGiB": 256,
    "name": "ml.g5.16xlarge",
    "vcpuNum": 64
   },
   {
    "_defaultOrder": 52,
    "_isFastLaunch": false,
    "category": "Accelerated computing",
    "gpuNum": 4,
    "hideHardwareSpecs": false,
    "memoryGiB": 192,
    "name": "ml.g5.12xlarge",
    "vcpuNum": 48
   },
   {
    "_defaultOrder": 53,
    "_isFastLaunch": false,
    "category": "Accelerated computing",
    "gpuNum": 4,
    "hideHardwareSpecs": false,
    "memoryGiB": 384,
    "name": "ml.g5.24xlarge",
    "vcpuNum": 96
   },
   {
    "_defaultOrder": 54,
    "_isFastLaunch": false,
    "category": "Accelerated computing",
    "gpuNum": 8,
    "hideHardwareSpecs": false,
    "memoryGiB": 768,
    "name": "ml.g5.48xlarge",
    "vcpuNum": 192
   },
   {
    "_defaultOrder": 55,
    "_isFastLaunch": false,
    "category": "Accelerated computing",
    "gpuNum": 8,
    "hideHardwareSpecs": false,
    "memoryGiB": 1152,
    "name": "ml.p4d.24xlarge",
    "vcpuNum": 96
   },
   {
    "_defaultOrder": 56,
    "_isFastLaunch": false,
    "category": "Accelerated computing",
    "gpuNum": 8,
    "hideHardwareSpecs": false,
    "memoryGiB": 1152,
    "name": "ml.p4de.24xlarge",
    "vcpuNum": 96
   },
   {
    "_defaultOrder": 57,
    "_isFastLaunch": false,
    "category": "Accelerated computing",
    "gpuNum": 0,
    "hideHardwareSpecs": false,
    "memoryGiB": 32,
    "name": "ml.trn1.2xlarge",
    "vcpuNum": 8
   },
   {
    "_defaultOrder": 58,
    "_isFastLaunch": false,
    "category": "Accelerated computing",
    "gpuNum": 0,
    "hideHardwareSpecs": false,
    "memoryGiB": 512,
    "name": "ml.trn1.32xlarge",
    "vcpuNum": 128
   },
   {
    "_defaultOrder": 59,
    "_isFastLaunch": false,
    "category": "Accelerated computing",
    "gpuNum": 0,
    "hideHardwareSpecs": false,
    "memoryGiB": 512,
    "name": "ml.trn1n.32xlarge",
    "vcpuNum": 128
   }
  ],
  "instance_type": "ml.t3.medium",
  "kernelspec": {
   "display_name": "Python 3",
   "language": "python",
   "name": "python3"
  },
  "language_info": {
   "codemirror_mode": {
    "name": "ipython",
    "version": 3
   },
   "file_extension": ".py",
   "mimetype": "text/x-python",
   "name": "python",
   "nbconvert_exporter": "python",
   "pygments_lexer": "ipython3",
   "version": "3.12.1"
  }
 },
 "nbformat": 4,
 "nbformat_minor": 5
}
